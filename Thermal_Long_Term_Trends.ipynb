{
 "cells": [
  {
   "cell_type": "markdown",
   "metadata": {},
   "source": [
    "# Thermal Long Term Trending\n",
    "\n",
    "This notebook includes all MSIDs previously monitored with the exceptions shown below. "
   ]
  },
  {
   "cell_type": "code",
   "execution_count": null,
   "metadata": {},
   "outputs": [],
   "source": [
    "from os.path import expanduser\n",
    "from os import environ\n",
    "import sys\n",
    "environ[\"SKA_DATA\"] = \"/proj/sot/ska/data\"\n",
    "\n",
    "home = expanduser(\"~\")\n",
    "addthispath = home + '/AXAFLIB/fot_trend/'\n",
    "sys.path.append(addthispath)\n",
    "from fot_trend.jupyter_trend_lib import gen_figure\n",
    "\n",
    "\n",
    "# Use this if you want to be able to zoom or easily save a plot:\n",
    "%matplotlib notebook\n",
    "\n",
    "# Use this if you want to be able to cycle through plots faster:\n",
    "# %matplotlib inline\n",
    "\n",
    "from matplotlib import rcParams\n",
    "import matplotlib.pyplot as plt\n",
    "# plt.style.use('dark_background')\n",
    "# rcParams['axes.facecolor'] = [.5,.55,.6]\n"
   ]
  },
  {
   "cell_type": "markdown",
   "metadata": {},
   "source": [
    "## These MSIDs are not included in this notebook:\n",
    "\n",
    "### These are not in the local copy of the engineering archive (some are not available in the source archive):\n",
    " - CPA1BPT\n",
    " - CPA2BPT\n",
    " - CUSOAIT\n",
    " - CXPNAIT\n",
    " - CXPNBIT\n",
    " - 5EHSE300\n",
    " - EB1T1\n",
    " - EB1T2\n",
    " - EB1T3\n",
    " - EB2T1\n",
    " - EB2T2\n",
    " - EB2T3\n",
    " - EB3T1\n",
    " - EB3T2\n",
    " - EB3T3\n",
    " \n",
    "### These are not decommed correctly\n",
    " - 4CSDHAV\n",
    " \n",
    "### These are ommitted since they are somewhat redundant with the power msids already shown and due to the complexity of plotting the associated data (bi-level data at high sampling rate).\n",
    " - All 4OHTRZXX where XX ranges from 01 to 80\n",
    "\n",
    "\n"
   ]
  },
  {
   "cell_type": "markdown",
   "metadata": {},
   "source": [
    "--------------------------------------------------------------------------------------------------------------\n",
    "## Define MSID Lists\n",
    "Define lists of MSIDs, where each list will be used to generate a different set of plots."
   ]
  },
  {
   "cell_type": "code",
   "execution_count": null,
   "metadata": {
    "collapsed": true
   },
   "outputs": [],
   "source": [
    "\n",
    "isim_msids = ['1CBAT','1CBBT','1CRAT','1CRBT','1DACTBT','1DEAMZT','1DPAMYT','1DPAMZT','1OAHAT',\n",
    "              '1OAHBT','1PDEAAT','1PDEABT','1PIN1AT','1SSMYT','1SSPYT','1WRAT','1WRBT','2CEAHVPT',\n",
    "              '2CHTRPZT','2CONDMXT','2DCENTRT','2DTSTATT','2FHTRMZT','2FRADPYT','2PMT1T','2PMT2T',\n",
    "              '2UVLSPXT','3BTU_BPT','3FABRAAT','3FABRCAT','3FAFLCAT','3FAMTRAT','3FAMYZAT',\n",
    "              '3FAPSAT','3FAPYZAT','3FARALAT','3FASEAAT','3FLCABPT','3RCTUBPT','3TRMTRAT',\n",
    "              '3TSMXCET','3TSMXSPT','3TSMYDPT','3TSPYFET','3TSPZDET','3TSPZSPT','3TTACS1T',\n",
    "              '3TTACS2T','3TTACS3T','3TTBRGBT','3TTHRC1T','3TTHRC2T','3TTHRC3T','3TTRALAT',\n",
    "              '3TTRALCT','3TTVALVT']\n",
    "\n",
    "neg_z_side_sensors = ['5EIOT','5EPHINT','TEIO','TEPHIN','TFSSBKT1','TFSSBKT2',\n",
    "                      'TESH1','TESH2']\n",
    "\n",
    "\n",
    "eps_msids = ['TSAMYT','TSAPYT','4CSDHAV']\n",
    "\n",
    "\n",
    "\n",
    "aca_and_pcad_msids = ['AACBPPT','AACBPRT','AACCCDPT','AACCCDRT','AACH1T','AACH2T','AAOTALT',\n",
    "                      'AAOTAPMT','AAOTASMT','AAOTH2MT','TAPE1PST','TAPE2PST','TATECDPT',\n",
    "                      'TATECDRT','AIRU2G1T','AIRU2G2T','AIRU2VFT', 'AIRU2BT', 'AIRU1BT']\n",
    "\n",
    "\n",
    "passive_telescope_msids = ['4HFSPAT','4HFSPBT','4LFSPAT','4LFSPBT','4PRT1AT','4PRT2AT','4PRT3AT',\n",
    "                           '4PRT4AT','4PRT5AT','4RT555T','4RT556T','4RT557T','4RT558T','4RT559T',\n",
    "                           '4RT560T','4RT561T','4RT562T','4RT563T','4RT564T','4RT565T','4RT567T',\n",
    "                           '4RT568T','4RT569T','4RT570T','4RT575T','4RT576T','4RT577T','4RT578T',\n",
    "                           '4RT579T','4RT580T','4RT581T','4RT582T','4RT583T','4RT584T','4RT585T',\n",
    "                           '4RT586T','4RT587T','4RT588T','4RT589T','4RT590T','4RT591T','4RT592T',\n",
    "                           '4RT593T','4RT594T','4RT595T','4RT596T','4RT597T','4RT598T','4RT700T',\n",
    "                           '4RT701T','4RT702T','4RT703T','4RT704T','4RT705T','4RT706T','4RT707T',\n",
    "                           '4RT708T','4RT709T','4RT710T','4RT711T']\n",
    "\n",
    "\n",
    "active_hrma_msids = ['OHRTHR02','OHRTHR03','OHRTHR04','OHRTHR05','OHRTHR06','OHRTHR07','OHRTHR08',\n",
    "                     'OHRTHR09','OHRTHR10','OHRTHR11','OHRTHR12','OHRTHR13','OHRTHR14','OHRTHR15',\n",
    "                     'OHRTHR17','OHRTHR18','OHRTHR19','OHRTHR20','OHRTHR21','OHRTHR22','OHRTHR23',\n",
    "                     'OHRTHR24','OHRTHR25','OHRTHR26','OHRTHR27','OHRTHR29','OHRTHR30','OHRTHR31',\n",
    "                     'OHRTHR33','OHRTHR34','OHRTHR35','OHRTHR36','OHRTHR37','OHRTHR38','OHRTHR39',\n",
    "                     'OHRTHR40','OHRTHR41','OHRTHR42','OHRTHR43','OHRTHR44','OHRTHR45','OHRTHR46',\n",
    "                     'OHRTHR47','OHRTHR49','OHRTHR50','OHRTHR51','OHRTHR52','OHRTHR53','OHRTHR54',\n",
    "                     'OHRTHR55','OHRTHR56','OHRTHR57','OHRTHR58','OHRTHR59','OHRTHR60','OHRTHR61',\n",
    "                     'OHRTHR62','OHRTHR63']\n",
    "\n",
    "active_oba_msids = ['OOBTHR02','OOBTHR03','OOBTHR04','OOBTHR05','OOBTHR06','OOBTHR07','OOBTHR08',\n",
    "                    'OOBTHR09','OOBTHR10','OOBTHR11','OOBTHR12','OOBTHR13','OOBTHR14','OOBTHR15',\n",
    "                    'OOBTHR17','OOBTHR18','OOBTHR19','OOBTHR20','OOBTHR21','OOBTHR22','OOBTHR23',\n",
    "                    'OOBTHR24','OOBTHR25','OOBTHR26','OOBTHR27','OOBTHR28','OOBTHR29','OOBTHR30',\n",
    "                    'OOBTHR31','OOBTHR33','OOBTHR34','OOBTHR35','OOBTHR36','OOBTHR37','OOBTHR38',\n",
    "                    'OOBTHR39','OOBTHR40','OOBTHR41','OOBTHR42','OOBTHR43','OOBTHR44','OOBTHR45',\n",
    "                    'OOBTHR46','OOBTHR47','OOBTHR49','OOBTHR50','OOBTHR51','OOBTHR52','OOBTHR53',\n",
    "                    'OOBTHR54','OOBTHR55','OOBTHR56','OOBTHR57','OOBTHR58','OOBTHR59','OOBTHR60',\n",
    "                    'OOBTHR61','OOBTHR62','OOBTHR63']\n",
    "\n",
    "telescope_power_msids = ['P01','P02','P03','P04','P05','P06','P07','P08','P09','P10','P11','P12',\n",
    "                         'P13','P14','P15','P16','P17','P18','P19','P20','P23','P24','P25','P26',\n",
    "                         'P27','P28','P29','P30','P31','P32','P33','P34','P35','P36','P37','P38',\n",
    "                         'P39','P40','P41','P42','P43','P44','P45','P46','P47','P48','P49','P50',\n",
    "                         'P51','P52','P53','P54','P55','P57','P58','P59','P60','P61','P62','P63',\n",
    "                         'P64','P65','P66','P67','P68','P69','P75','P76','P77','P78','P79','P80']\n",
    "\n",
    "telescope_power_stat_msids = ['PABH','PAFTCONE','PAFTCYL','PAHP','PCONE','PFAP','PFWDCONE',\n",
    "                              'PFWDCYL','PHRMA','PHRMASTRUTS','PIC','PMIDCONE','PMNT','POBAT',\n",
    "                              'POC','PPL10','PRADVNT','PSCSTRUTS','PTFTE','PTOTAL']\n",
    "\n",
    "telescope_derived_misc_msids = ['EE_AXIAL','EE_BULK','EE_DIAM','EE_RADIAL','EE_THERM','HAAG',\n",
    "                                 'HARG','HMAX35','HMIN35','HMCSAVE','OBAAG','OBAAGW','OBACAVE',\n",
    "                                 'OBACAVEW','OBADIG','OBADIGW','OMAX34','OMIN34','HADG',\n",
    "                                 'TILT_AXIAL','TILT_BULK','TILT_DIAM','TILT_MAX','TILT_RSS']\n",
    "\n",
    "healthcheck_msids = ['HRMA_AVE','4OAVHRMT','HRMHCHK','OBA_AVE','4OAVOBAT','TSSMAX','TSSMIN',\n",
    "                     'TABMAX','TABMIN','THSMAX','THSMIN','OHRMGRD3','OHRMGRD6']\n",
    "\n",
    "propulsion_msids = ['PCM01T','PCM02T','PCM03T','PCM04T','PFDM101T','PFDM102T','PFDM201T',\n",
    "                    'PFDM202T','PFFP01T','PFTANK1T','PFTANK2T','PHETANKT','PHOFP1T','PLAEV1AT',\n",
    "                    'PLAEV1BT','PLAEV2AT','PLAEV3AT','PLAEV3BT','PLAEV4AT','PLAEV4BT','PLINE01T',\n",
    "                    'PLINE02T','PLINE03T','PLINE04T','PLINE05T','PLINE06T','PLINE07T','PLINE08T',\n",
    "                    'PLINE09T','PLINE10T','PLINE11T','PLINE12T','PLINE13T','PLINE14T','PLINE15T',\n",
    "                    'PLINE16T','PM1THV1T','PM1THV2T','PM2THV1T','PM2THV2T','PM3THV1T','PM3THV2T',\n",
    "                    'PM4THV1T','PM4THV2T',\n",
    "                    'PMFP01T','PMTANK1T','PMTANK2T','PMTANK3T']\n",
    "\n",
    "\n",
    "spacecraft_msids = ['TASPPCM','TASPPCP','TASPPCU','TASPRWC','TCM_CTU','TCM_IFU','TCM_OBC',\n",
    "                    'TCM_PA1','TCM_PA2','TCM_PAN','TCM_RFAS','TCM_SSR1','TCM_SSR2','TCM_TX1',\n",
    "                    'TCM_TX2','TCM_USO','TCNR_BRM','TCYLAFT1','TCYLAFT2','TCYLAFT3','TCYLAFT4',\n",
    "                    'TCYLAFT5','TCYLAFT6','TCYLCMM','TCYLFMZM','TCYLFMZP','TCYLPCM','TCYLPCP',\n",
    "                    'TCYLRWC','TCYZ_RW1','TPCP_RW2','TPCP_RW3','TPCM_RW4','TPCM_RW5','TCYZ_RW6',\n",
    "                    'TEP_BPAN','TEP_EIA','TEP_PCU','TEP_PPAN','TEP_PSU1','TEP_PSU2','TEP_RCTU',\n",
    "                    'TFSPCMM','TFSPCMP','TFSPPCM','TFSPPCP','TFSPPCU','TFSPRWC','TFUTSUPN',\n",
    "                    'TMYSADA','TMZP_CNT','TMZP_MY','TMZP_PY','TOXTSUPN','TPC_CEA','TPC_DEA',\n",
    "                    'TPC_ESE','TPC_FSSE','TPC_PAN','TPC_RCTU','TPC_WDA','TPYSADA','TMZLGABM',\n",
    "                    'TPZLGABM','TRSPMTPC','TRSPOTEP','TRSPOTEX','TRSPOTPC','TRSPRWBB','TRSPRWBC',\n",
    "                    'TRSPRWCM','TSCTSF1','TSCTSF2','TSCTSF3','TSCTSF4','TSCTSF5','TSCTSF6']\n",
    "\n",
    "propulsion_dome = ['PLAED1AT','PLAED1BT','PLAED1CT','PLAED1DT','PLAED1ET','PLAED1FT','PLAED1GT',\n",
    "                   'PLAED1HT','PLAED1IT','PLAED2AT','PLAED2BT','PLAED2CT','PLAED2DT','PLAED2ET',\n",
    "                   'PLAED2FT','PLAED2GT','PLAED2HT','PLAED2IT','PLAED3AT','PLAED3BT','PLAED3CT',\n",
    "                   'PLAED3DT','PLAED3ET','PLAED3FT','PLAED3GT','PLAED3HT','PLAED3IT','PLAED4AT',\n",
    "                   'PLAED4BT','PLAED4CT','PLAED4DT','PLAED4ET','PLAED4FT','PLAED4GT','PLAED4HT',\n",
    "                   'PLAED4IT']\n",
    "\n",
    "propulsion_rcs = ['POR1TV01T','POR1TV02T','POR2TV01T','POR2TV02T','PR1TV01T','PR1TV02T','PR2TV01T',\n",
    "                  'PR2TV02T','PR3TV01T','PR3TV02T','PR4TV01T','PR4TV02T']"
   ]
  },
  {
   "cell_type": "markdown",
   "metadata": {},
   "source": [
    "--------------------------------------------------------------------------------------------------------------\n",
    "## Generate Interactive Trending Plots"
   ]
  },
  {
   "cell_type": "code",
   "execution_count": null,
   "metadata": {
    "scrolled": false
   },
   "outputs": [],
   "source": [
    "group_name = 'isim'\n",
    "gen_figure(isim_msids, group_name)"
   ]
  },
  {
   "cell_type": "code",
   "execution_count": null,
   "metadata": {
    "collapsed": true
   },
   "outputs": [],
   "source": [
    "group_name = 'sc'\n",
    "gen_figure(neg_z_side_sensors, group_name)"
   ]
  },
  {
   "cell_type": "code",
   "execution_count": null,
   "metadata": {
    "collapsed": true
   },
   "outputs": [],
   "source": [
    "group_name = 'sc'\n",
    "gen_figure(eps_msids, group_name)"
   ]
  },
  {
   "cell_type": "code",
   "execution_count": null,
   "metadata": {
    "collapsed": true
   },
   "outputs": [],
   "source": [
    "group_name = 'sc'\n",
    "gen_figure(aca_and_pcad_msids, group_name)"
   ]
  },
  {
   "cell_type": "code",
   "execution_count": null,
   "metadata": {
    "collapsed": true
   },
   "outputs": [],
   "source": [
    "group_name = 'tel'\n",
    "gen_figure(passive_telescope_msids, group_name)"
   ]
  },
  {
   "cell_type": "code",
   "execution_count": null,
   "metadata": {
    "collapsed": true
   },
   "outputs": [],
   "source": [
    "group_name = 'tel'\n",
    "gen_figure(active_hrma_msids, group_name)"
   ]
  },
  {
   "cell_type": "code",
   "execution_count": null,
   "metadata": {
    "collapsed": true
   },
   "outputs": [],
   "source": [
    "group_name = 'tel'\n",
    "gen_figure(active_oba_msids, group_name)"
   ]
  },
  {
   "cell_type": "code",
   "execution_count": null,
   "metadata": {
    "collapsed": true
   },
   "outputs": [],
   "source": [
    "group_name = 'tel'\n",
    "gen_figure(healthcheck_msids, group_name)"
   ]
  },
  {
   "cell_type": "code",
   "execution_count": null,
   "metadata": {
    "collapsed": true
   },
   "outputs": [],
   "source": [
    "group_name = 'tel'\n",
    "gen_figure(telescope_power_msids, group_name)"
   ]
  },
  {
   "cell_type": "code",
   "execution_count": null,
   "metadata": {
    "collapsed": true
   },
   "outputs": [],
   "source": [
    "group_name = 'tel'\n",
    "gen_figure(telescope_power_stat_msids, group_name)"
   ]
  },
  {
   "cell_type": "code",
   "execution_count": null,
   "metadata": {
    "collapsed": true
   },
   "outputs": [],
   "source": [
    "group_name = 'tel'\n",
    "gen_figure(telescope_derived_misc_msids, group_name)"
   ]
  },
  {
   "cell_type": "code",
   "execution_count": null,
   "metadata": {
    "collapsed": true
   },
   "outputs": [],
   "source": [
    "group_name = 'sc'\n",
    "gen_figure(propulsion_msids, group_name)"
   ]
  },
  {
   "cell_type": "code",
   "execution_count": null,
   "metadata": {
    "collapsed": true
   },
   "outputs": [],
   "source": [
    "group_name = 'sc'\n",
    "gen_figure(propulsion_dome, group_name)"
   ]
  },
  {
   "cell_type": "code",
   "execution_count": null,
   "metadata": {
    "collapsed": true
   },
   "outputs": [],
   "source": [
    "group_name = 'sc'\n",
    "gen_figure(propulsion_rcs, group_name)"
   ]
  },
  {
   "cell_type": "code",
   "execution_count": null,
   "metadata": {
    "collapsed": true
   },
   "outputs": [],
   "source": [
    "group_name = 'sc'\n",
    "gen_figure(spacecraft_msids, group_name)"
   ]
  },
  {
   "cell_type": "code",
   "execution_count": null,
   "metadata": {
    "collapsed": true
   },
   "outputs": [],
   "source": [
    "group_name = 'sc'\n",
    "gen_figure(['dist_satearth', 'aosares1', 'aosares2'], group_name)"
   ]
  },
  {
   "cell_type": "code",
   "execution_count": null,
   "metadata": {
    "collapsed": true
   },
   "outputs": [],
   "source": []
  },
  {
   "cell_type": "code",
   "execution_count": null,
   "metadata": {
    "collapsed": true
   },
   "outputs": [],
   "source": [
    "group_name = 'tel'\n",
    "gen_figure(['4csdhav', '4sp51v'], group_name)"
   ]
  },
  {
   "cell_type": "code",
   "execution_count": null,
   "metadata": {
    "collapsed": true
   },
   "outputs": [],
   "source": [
    "group_name = 'tel'\n",
    "gen_figure(['elbi','elbv'], group_name)"
   ]
  },
  {
   "cell_type": "code",
   "execution_count": null,
   "metadata": {
    "collapsed": true
   },
   "outputs": [],
   "source": []
  },
  {
   "cell_type": "code",
   "execution_count": null,
   "metadata": {
    "collapsed": true
   },
   "outputs": [],
   "source": []
  },
  {
   "cell_type": "markdown",
   "metadata": {},
   "source": [
    "# Planning Limit Review (TCYLAFT6, 4RT700T)"
   ]
  },
  {
   "cell_type": "code",
   "execution_count": null,
   "metadata": {
    "collapsed": true
   },
   "outputs": [],
   "source": [
    "msids = ['1CBBT', '1DACTBT', '1DEAMZT', '1DPAMZT', '3TSMXSPT']\n",
    "gen_figure(msids, 'isim')"
   ]
  },
  {
   "cell_type": "code",
   "execution_count": null,
   "metadata": {
    "collapsed": true
   },
   "outputs": [],
   "source": [
    "msids = ['4HFSPAT', '4HFSPBT', '4LFSPAT', '4LFSPBT', '4RT568T', '4RT577T', '4RT578T', '4RT584T', '4RT585T',\n",
    "         '4RT586T', '4RT590T', '4RT591T', '4RT597T', '4RT598T', 'OHRTHR38', 'OOBTHR04', 'OOBTHR05', 'OOBTHR06',\n",
    "         'OOBTHR19', 'OOBTHR20', 'OOBTHR21', 'OOBTHR25', 'OOBTHR26', 'OOBTHR27',\n",
    "         'OOBTHR28', 'OOBTHR30', 'OOBTHR45', 'OOBTHR51', 'OOBTHR52', 'OOBTHR56',\n",
    "         'OOBTHR57', 'OOBTHR60', 'TSSMAX', 'HRMA_AVE', 'OBA_AVE']\n",
    "gen_figure(msids, 'tel')"
   ]
  },
  {
   "cell_type": "code",
   "execution_count": null,
   "metadata": {
    "collapsed": true
   },
   "outputs": [],
   "source": [
    "msids = ['PFTANK1T', 'PFTANK2T', 'PM1THV1T', 'PM1THV2T', 'TAPE1PST', 'TAPE2PST', 'TATECDPT', 'TATECDRT', 'TCYLFMZM',\n",
    "         'TEIO', 'TEPHIN', 'TFSSBKT1', 'TFSSBKT2', 'TMZP_CNT', 'TMZP_MY', '5EIOT', '5EPHINT', 'AACBPPT', 'AACBPRT',\n",
    "         'AACCCDPT', 'AACCCDRT', 'AAOTALT', 'AAOTAPMT', 'AAOTASMT', 'AAOTH2MT', 'TCYLAFT6', '4RT700T']\n",
    "gen_figure(msids, 'sc')"
   ]
  },
  {
   "cell_type": "code",
   "execution_count": null,
   "metadata": {
    "collapsed": true
   },
   "outputs": [],
   "source": []
  },
  {
   "cell_type": "code",
   "execution_count": null,
   "metadata": {
    "collapsed": true
   },
   "outputs": [],
   "source": []
  },
  {
   "cell_type": "code",
   "execution_count": null,
   "metadata": {
    "collapsed": true
   },
   "outputs": [],
   "source": []
  },
  {
   "cell_type": "code",
   "execution_count": null,
   "metadata": {
    "collapsed": true
   },
   "outputs": [],
   "source": []
  },
  {
   "cell_type": "code",
   "execution_count": null,
   "metadata": {
    "collapsed": true
   },
   "outputs": [],
   "source": []
  },
  {
   "cell_type": "code",
   "execution_count": null,
   "metadata": {
    "collapsed": true
   },
   "outputs": [],
   "source": []
  },
  {
   "cell_type": "code",
   "execution_count": null,
   "metadata": {
    "collapsed": true
   },
   "outputs": [],
   "source": [
    "26*58."
   ]
  },
  {
   "cell_type": "code",
   "execution_count": null,
   "metadata": {
    "collapsed": true
   },
   "outputs": [],
   "source": [
    "import numpy as np\n",
    "from matplotlib import pyplot as plt\n",
    "import matplotlib.font_manager as font_manager\n",
    "\n",
    "from Chandra.Time import DateTime\n",
    "from Ska.engarchive import fetch_eng as fetch\n",
    "\n",
    "# from plot_cxctime_custom import *\n",
    "lightfont = font_manager.FontProperties(weight='light')\n"
   ]
  },
  {
   "cell_type": "code",
   "execution_count": null,
   "metadata": {
    "collapsed": true
   },
   "outputs": [],
   "source": [
    "data = fetch.Msidset(['aach1t', 'aacbppt', 'aach2t'], '2010:001', stat='5min')\n",
    "data.interpolate()\n"
   ]
  },
  {
   "cell_type": "code",
   "execution_count": null,
   "metadata": {
    "collapsed": true
   },
   "outputs": [],
   "source": [
    "plt.rcParams['xtick.major.pad'] = '10'\n",
    "fig = plt.figure(facecolor=[1,1,1],figsize=(8,6))\n",
    "ax = fig.add_axes([0.15, 0.15, 0.75, 0.75])\n",
    "ax.hold(True)\n",
    "ax.plot(data['aacbppt'].vals, data['aach1t'].vals, color=[0.3, 0.3, 0.3])\n",
    "ax.set_yticks(range(60, 95, 5))\n",
    "ax.set_yticklabels(range(60, 95, 5), fontsize=18)\n",
    "ax.set_xticks(range(70, 110, 5))\n",
    "ax.set_xticklabels(range(70, 110, 5), fontsize=18)\n",
    "ax.grid(True)\n",
    "ax.set_xlabel('AACBPPT Temperature (Deg F)', fontsize=18)\n",
    "ax.set_ylabel('AACH1T Temperature (Deg F)', fontsize=18)\n",
    "ax.set_title('Correlation between AACBPPT and AACH1T', fontsize=24, y=1.05)\n",
    "ax.annotate('AACBPPT - AACH1T ~ 14F\\nat hot temperatures.', xy=(100, 85), xytext=(95, 65), \n",
    "            fontsize=16,arrowprops=dict(arrowstyle=\"->\"), va='center', ha='center')"
   ]
  },
  {
   "cell_type": "code",
   "execution_count": null,
   "metadata": {
    "collapsed": true
   },
   "outputs": [],
   "source": [
    "fig = plt.figure(facecolor=[1,1,1],figsize=(10,6))\n",
    "ax = fig.add_axes([0.1, 0.1, 0.8, 0.8])\n",
    "ax.hold(True)\n",
    "ax.plot(data.times, data['aach2t'].vals - data['aach1t'].vals, color=[0.3, 0.3, 0.3])"
   ]
  },
  {
   "cell_type": "code",
   "execution_count": null,
   "metadata": {
    "collapsed": true
   },
   "outputs": [],
   "source": [
    "plt.rcParams['xtick.major.pad'] = '10'\n",
    "fig = plt.figure(facecolor=[1,1,1],figsize=(8,6))\n",
    "ax = fig.add_axes([0.15, 0.15, 0.75, 0.75])\n",
    "ax.hold(True)\n",
    "ax.plot(data['aach2t'].vals, data['aach1t'].vals, color=[0.3, 0.3, 0.3])\n",
    "# ax.set_yticks(range(60, 95, 5))\n",
    "# ax.set_yticklabels(range(60, 95, 5), fontsize=18)\n",
    "# ax.set_xticks(range(70, 110, 5))\n",
    "# ax.set_xticklabels(range(70, 110, 5), fontsize=18)\n",
    "ax.grid(True)\n",
    "ax.set_xlabel('AACBPPT Temperature (Deg F)', fontsize=18)\n",
    "ax.set_ylabel('AACH1T Temperature (Deg F)', fontsize=18)\n",
    "ax.set_title('Correlation between AACBPPT and AACH1T', fontsize=24, y=1.05)\n",
    "ax.annotate('AACBPPT - AACH1T ~ 14F\\nat hot temperatures.', xy=(100, 85), xytext=(95, 65), \n",
    "            fontsize=16,arrowprops=dict(arrowstyle=\"->\"), va='center', ha='center')"
   ]
  },
  {
   "cell_type": "code",
   "execution_count": null,
   "metadata": {
    "collapsed": true
   },
   "outputs": [],
   "source": []
  },
  {
   "cell_type": "code",
   "execution_count": null,
   "metadata": {
    "collapsed": true
   },
   "outputs": [],
   "source": [
    "msids = ['4RT555T', '4RT556T', '4RT557T', '4RT558T', '4RT559T', '4RT560T', '4RT570T', '4RT577T', '4RT578T', '4RT590T', '4RT598T', 'TCM_CTU', 'TCYLFMZP', 'TCYLFMZP']\n",
    "\n",
    "from Ska.engarchive import fetch_eng as fetch\n",
    "\n",
    "for msid in msids:\n",
    "    d = fetch.Msid(msid, '2016:001', '2016:002', stat='5min')\n",
    "    print(d.tdb.technical_name)"
   ]
  },
  {
   "cell_type": "code",
   "execution_count": null,
   "metadata": {
    "collapsed": true
   },
   "outputs": [],
   "source": [
    "from Ska.engarchive import fetch_eng as fetch\n",
    "\n",
    "data = fetch.Msidset(['elbv', 'pitch'], '2010:001', stat='5min')\n",
    "data.interpolate()\n",
    "fig = plt.figure(facecolor=[1,1,1],figsize=(10,6))\n",
    "ax = fig.add_axes([0.1, 0.1, 0.8, 0.8])\n",
    "ax.hold(True)\n",
    "ax.plot(data.times, data['elbv'].vals, color=[0.3, 0.3, 0.3], marker='.', linewidth=0)\n",
    "ax.grid(True)"
   ]
  },
  {
   "cell_type": "code",
   "execution_count": null,
   "metadata": {
    "collapsed": true
   },
   "outputs": [],
   "source": [
    "from Ska.engarchive import fetch_eng as fetch\n",
    "\n",
    "data = fetch.Msidset(['2ceahvpt', 'pitch'], '2010:001', stat='5min')\n",
    "data.interpolate()\n",
    "\n"
   ]
  },
  {
   "cell_type": "code",
   "execution_count": null,
   "metadata": {
    "collapsed": true
   },
   "outputs": [],
   "source": []
  },
  {
   "cell_type": "code",
   "execution_count": null,
   "metadata": {
    "collapsed": true
   },
   "outputs": [],
   "source": [
    "fig = plt.figure(facecolor=[1,1,1],figsize=(10,6))\n",
    "ax = fig.add_axes([0.1, 0.1, 0.8, 0.8])\n",
    "ax.hold(True)\n",
    "ax.plot(data['2ceahvpt'].vals, data['pitch'].vals, color=[0.3, 0.3, 0.3], marker='.', linewidth=0)"
   ]
  },
  {
   "cell_type": "code",
   "execution_count": null,
   "metadata": {
    "collapsed": true
   },
   "outputs": [],
   "source": [
    "from Chandra.Time import DateTime\n",
    "\n",
    "a = DateTime('2017:334:19:55:00').secs - DateTime('2017:333:10:58:53').secs \n",
    "b = DateTime('2018:006:05:53:43').secs - DateTime('2018:005:23:13:33').secs\n",
    "a/3600., b/3600."
   ]
  },
  {
   "cell_type": "code",
   "execution_count": null,
   "metadata": {
    "collapsed": true
   },
   "outputs": [],
   "source": []
  }
 ],
 "metadata": {
  "anaconda-cloud": {},
  "kernelspec": {
   "display_name": "Python 3",
   "language": "python",
   "name": "python3"
  },
  "language_info": {
   "codemirror_mode": {
    "name": "ipython",
    "version": 3
   },
   "file_extension": ".py",
   "mimetype": "text/x-python",
   "name": "python",
   "nbconvert_exporter": "python",
   "pygments_lexer": "ipython3",
   "version": "3.6.2"
  },
  "widgets": {
   "state": {
    "03f5a8e42cef4292b68aec239eb687fb": {
     "views": [
      {
       "cell_index": 11
      }
     ]
    },
    "2638f946689648b1aa06079d889ba454": {
     "views": [
      {
       "cell_index": 9
      }
     ]
    },
    "2a53b88ac3d34639b70454693f32a58b": {
     "views": [
      {
       "cell_index": 16
      }
     ]
    },
    "3805f99d965e4e95b5281507a3e06ea8": {
     "views": [
      {
       "cell_index": 12
      }
     ]
    },
    "64c48baf1ea94869acbd8d642a3bdee5": {
     "views": [
      {
       "cell_index": 20
      }
     ]
    },
    "692467ee3f9a47caa1757856c0c87cfb": {
     "views": [
      {
       "cell_index": 18
      }
     ]
    },
    "768d22e0b6814d9fb72603b0ed9761ba": {
     "views": [
      {
       "cell_index": 7
      }
     ]
    },
    "79869e149c944ad7a74fc1032d626903": {
     "views": [
      {
       "cell_index": 17
      }
     ]
    },
    "8f036cec74a14474a976927835e73dc5": {
     "views": [
      {
       "cell_index": 6
      }
     ]
    },
    "b0de85f2ff6a465b8cf97e3157d036e8": {
     "views": [
      {
       "cell_index": 15
      }
     ]
    },
    "b149124f935c4b4eb8047e2b02f95c12": {
     "views": [
      {
       "cell_index": 8
      }
     ]
    },
    "c0fdd356d0e745438c363c96f0a31394": {
     "views": [
      {
       "cell_index": 10
      }
     ]
    },
    "c46db8bd544946eb99b9252cd8985d0c": {
     "views": [
      {
       "cell_index": 14
      }
     ]
    },
    "cc38a14ab91747ad9ba93b3ab9bb581f": {
     "views": [
      {
       "cell_index": 19
      }
     ]
    },
    "f9aa2032ba904bc6b67edc65190f9150": {
     "views": [
      {
       "cell_index": 13
      }
     ]
    }
   },
   "version": "1.2.0"
  }
 },
 "nbformat": 4,
 "nbformat_minor": 1
}
