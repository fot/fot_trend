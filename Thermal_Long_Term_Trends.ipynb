{
 "cells": [
  {
   "cell_type": "markdown",
   "metadata": {},
   "source": [
    "# Thermal Long Term Trending\n",
    "\n",
    "This notebook includes all MSIDs previously monitored with the exceptions shown below. "
   ]
  },
  {
   "cell_type": "code",
   "execution_count": null,
   "metadata": {},
   "outputs": [],
   "source": [
    "from os.path import expanduser\n",
    "from os import environ\n",
    "import sys\n",
    "from IPython.display import display\n",
    "from IPython.core.display import HTML\n",
    "# environ[\"SKA_DATA\"] = \"/proj/sot/ska/data\"\n",
    "\n",
    "home = expanduser(\"~\")\n",
    "addthispath = home + '/AXAFLIB/fot_trend/'\n",
    "sys.path.append(addthispath)\n",
    "from fot_trend.jupyter_trend_lib import gen_figure\n",
    "\n",
    "# Use this if you are running jupyterlab\n",
    "# %matplotlib ipympl\n",
    "\n",
    "# Use this if you want to be able to zoom or easily save a plot:\n",
    "%matplotlib notebook\n",
    "\n",
    "# Use this if you want to be able to cycle through plots faster:\n",
    "# %matplotlib inline\n",
    "\n",
    "from matplotlib import rcParams\n",
    "import matplotlib.pyplot as plt\n",
    "# plt.style.use('dark_background')\n",
    "# rcParams['axes.facecolor'] = [.5,.55,.6]\n",
    "display(HTML(\"<style>.container { width:90% !important; }</style>\"))\n",
    "\n",
    "# NOTE:\n",
    "# use %tb to see full error traces if you suspect an error"
   ]
  },
  {
   "cell_type": "markdown",
   "metadata": {},
   "source": [
    "## These MSIDs are not included in this notebook:\n",
    "\n",
    "### These are not in the local copy of the engineering archive (some are not available in the source archive):\n",
    " - CPA1BPT\n",
    " - CPA2BPT\n",
    " - CUSOAIT\n",
    " - CXPNAIT\n",
    " - CXPNBIT\n",
    " - 5EHSE300\n",
    " - EB1T1\n",
    " - EB1T2\n",
    " - EB1T3\n",
    " - EB2T1\n",
    " - EB2T2\n",
    " - EB2T3\n",
    " - EB3T1\n",
    " - EB3T2\n",
    " - EB3T3\n",
    " \n",
    "### These are not decommed correctly\n",
    " - 4CSDHAV\n",
    " \n",
    "### These are ommitted since they are somewhat redundant with the power msids already shown and due to the complexity of plotting the associated data (bi-level data at high sampling rate).\n",
    " - All 4OHTRZXX where XX ranges from 01 to 80\n",
    "\n",
    "\n"
   ]
  },
  {
   "cell_type": "markdown",
   "metadata": {},
   "source": [
    "--------------------------------------------------------------------------------------------------------------\n",
    "## Define MSID Lists\n",
    "Define lists of MSIDs, where each list will be used to generate a different set of plots."
   ]
  },
  {
   "cell_type": "code",
   "execution_count": null,
   "metadata": {},
   "outputs": [],
   "source": [
    "\n",
    "isim_msids = ['1CBAT','1CBBT','1CRAT','1CRBT','1DACTBT','1DEAMZT','1DPAMYT','1DPAMZT','1OAHAT',\n",
    "              '1OAHBT','1PDEAAT','1PDEABT','1PIN1AT','1SSMYT','1SSPYT','1WRAT','1WRBT','2CEAHVPT',\n",
    "              '2CHTRPZT','2CONDMXT','2DCENTRT','2DTSTATT','2FHTRMZT','2FRADPYT', '2LVPLATM', '2PMT1T','2PMT2T',\n",
    "              '2UVLSPXT','3BTU_BPT','3FABRAAT','3FABRCAT', '3FAFLAAT', '3FAFLCAT','3FAMTRAT','3FAMYZAT',\n",
    "              '3FAPSAT','3FAPYZAT','3FARALAT','3FASEAAT','3FLCABPT','3RCTUBPT','3TRMTRAT',\n",
    "              '3TSMXCET','3TSMXSPT','3TSMYDPT','3TSPYFET','3TSPZDET','3TSPZSPT','3TTACS1T',\n",
    "              '3TTACS2T','3TTACS3T','3TTBRGBT','3TTHRC1T','3TTHRC2T','3TTHRC3T','3TTRALAT',\n",
    "              '3TTRALCT','3TTVALVT', 'FPTEMP_11']\n",
    "\n",
    "neg_z_side_sensors = ['5EIOT','5EPHINT','TEIO','TEPHIN','TFSSBKT1','TFSSBKT2',\n",
    "                      'TESH1','TESH2']\n",
    "\n",
    "\n",
    "eps_msids = ['TSAMYT','TSAPYT','4CSDHAV', 'ESAMYI', 'ESAPYI']\n",
    "\n",
    "\n",
    "\n",
    "aca_and_pcad_msids = ['AACBPPT','AACBPRT','AACCCDPT','AACCCDRT','AACH1T','AACH2T','AAOTALT',\n",
    "                      'AAOTAPMT','AAOTASMT','AAOTH2MT','TAPE1PST','TAPE2PST','TATECDPT',\n",
    "                      'TATECDRT','AIRU2G1T','AIRU2G2T','AIRU2VFT', 'AIRU2BT', 'AIRU1BT',\n",
    "                     'AIRU1G1T','AIRU1G2T','AIRU1VFT', 'TAPEA1T', 'TAPEA2T']\n",
    "\n",
    "\n",
    "passive_telescope_msids = ['4HFSPAT','4HFSPBT','4LFSPAT','4LFSPBT','4PRT1AT','4PRT2AT','4PRT3AT',\n",
    "                           '4PRT4AT','4PRT5AT','4RT555T','4RT556T','4RT557T','4RT558T','4RT559T',\n",
    "                           '4RT560T','4RT561T','4RT562T','4RT563T','4RT564T','4RT565T','4RT567T',\n",
    "                           '4RT568T','4RT569T','4RT570T','4RT575T','4RT576T','4RT577T','4RT578T',\n",
    "                           '4RT579T','4RT580T','4RT581T','4RT582T','4RT583T','4RT584T','4RT585T',\n",
    "                           '4RT586T','4RT587T','4RT588T','4RT589T','4RT590T','4RT591T','4RT592T',\n",
    "                           '4RT593T','4RT594T','4RT595T','4RT596T','4RT597T','4RT598T','4RT700T',\n",
    "                           '4RT701T','4RT702T','4RT703T','4RT704T','4RT705T','4RT706T','4RT707T',\n",
    "                           '4RT708T','4RT709T','4RT710T','4RT711T']\n",
    "\n",
    "\n",
    "active_hrma_msids = ['OHRTHR02','OHRTHR03','OHRTHR04','OHRTHR05','OHRTHR06','OHRTHR07','OHRTHR08',\n",
    "                     'OHRTHR09','OHRTHR10','OHRTHR11','OHRTHR12','OHRTHR13','OHRTHR14','OHRTHR15',\n",
    "                     'OHRTHR17','OHRTHR18','OHRTHR19','OHRTHR20','OHRTHR21','OHRTHR22','OHRTHR23',\n",
    "                     'OHRTHR24','OHRTHR25','OHRTHR26','OHRTHR27','OHRTHR29','OHRTHR30','OHRTHR31',\n",
    "                     'OHRTHR33','OHRTHR34','OHRTHR35','OHRTHR36','OHRTHR37','OHRTHR38','OHRTHR39',\n",
    "                     'OHRTHR40','OHRTHR41','OHRTHR42','OHRTHR43','OHRTHR44','OHRTHR45','OHRTHR46',\n",
    "                     'OHRTHR47','OHRTHR49','OHRTHR50','OHRTHR51','OHRTHR52','OHRTHR53','OHRTHR54',\n",
    "                     'OHRTHR55','OHRTHR56','OHRTHR57','OHRTHR58','OHRTHR59','OHRTHR60','OHRTHR61',\n",
    "                     'OHRTHR62','OHRTHR63']\n",
    "\n",
    "active_oba_msids = ['OOBTHR02','OOBTHR03','OOBTHR04','OOBTHR05','OOBTHR06','OOBTHR07','OOBTHR08',\n",
    "                    'OOBTHR09','OOBTHR10','OOBTHR11','OOBTHR12','OOBTHR13','OOBTHR14','OOBTHR15',\n",
    "                    'OOBTHR17','OOBTHR18','OOBTHR19','OOBTHR20','OOBTHR21','OOBTHR22','OOBTHR23',\n",
    "                    'OOBTHR24','OOBTHR25','OOBTHR26','OOBTHR27','OOBTHR28','OOBTHR29','OOBTHR30',\n",
    "                    'OOBTHR31','OOBTHR33','OOBTHR34','OOBTHR35','OOBTHR36','OOBTHR37','OOBTHR38',\n",
    "                    'OOBTHR39','OOBTHR40','OOBTHR41','OOBTHR42','OOBTHR43','OOBTHR44','OOBTHR45',\n",
    "                    'OOBTHR46','OOBTHR47','OOBTHR49','OOBTHR50','OOBTHR51','OOBTHR52','OOBTHR53',\n",
    "                    'OOBTHR54','OOBTHR55','OOBTHR56','OOBTHR57','OOBTHR58','OOBTHR59','OOBTHR60',\n",
    "                    'OOBTHR61','OOBTHR62','OOBTHR63', 'OOBAGRD3', 'OOBAGRD6']\n",
    "\n",
    "telescope_power_msids = ['P01','P02','P03','P04','P05','P06','P07','P08','P09','P10','P11','P12',\n",
    "                         'P13','P14','P15','P16','P17','P18','P19','P20','P23','P24','P25','P26',\n",
    "                         'P27','P28','P29','P30','P31','P32','P33','P34','P35','P36','P37','P38',\n",
    "                         'P39','P40','P41','P42','P43','P44','P45','P46','P47','P48','P49','P50',\n",
    "                         'P51','P52','P53','P54','P55','P57','P58','P59','P60','P61','P62','P63',\n",
    "                         'P64','P65','P66','P67','P68','P69','P75','P76','P77','P78','P79','P80']\n",
    "\n",
    "telescope_power_stat_msids = ['PABH','PAFTCONE','PAFTCYL','PAHP','PCONE','PFAP','PFWDCONE',\n",
    "                              'PFWDCYL','PHRMA','PHRMASTRUTS','PIC','PMIDCONE','PMNT','POBAT',\n",
    "                              'POC','PPL10','PRADVNT','PSCSTRUTS','PTFTE','PTOTAL']\n",
    "\n",
    "telescope_derived_misc_msids = ['EE_AXIAL','EE_BULK','EE_DIAM','EE_RADIAL','EE_THERM','HAAG',\n",
    "                                 'HARG','HMAX35','HMIN35','HMCSAVE','OBAAG','OBAAGW','OBACAVE',\n",
    "                                 'OBACAVEW','OBADIG','OBADIGW','OMAX34','OMIN34','HADG',\n",
    "                                 'TILT_AXIAL','TILT_BULK','TILT_DIAM','TILT_MAX','TILT_RSS']\n",
    "\n",
    "healthcheck_msids = ['HRMA_AVE','4OAVHRMT','HRMHCHK','OBA_AVE','4OAVOBAT','TSSMAX','TSSMIN',\n",
    "                     'TABMAX','TABMIN','THSMAX','THSMIN','OHRMGRD3','OHRMGRD6']\n",
    "\n",
    "tel_calibration_msids = ['OHRMGRD1','OHRMGRD2','OHRMGRD4', 'OHRMGRD5', 'OHRMGRD7','OHRMGRD8', \n",
    "                         'OOBAGRD1', 'OOBAGRD2', 'OOBAGRD4', 'OOBAGRD5', ]\n",
    "\n",
    "\n",
    "propulsion_msids = ['PCM01T','PCM02T','PCM03T','PCM04T','PFDM101T','PFDM102T','PFDM201T',\n",
    "                    'PFDM202T','PFFP01T','PFTANK1T','PFTANK2T','PHETANKT','PHOFP1T','PLAEV1AT',\n",
    "                    'PLAEV1BT','PLAEV2AT','PLAEV2BT','PLAEV3AT','PLAEV3BT','PLAEV4AT','PLAEV4BT','PLINE01T',\n",
    "                    'PLINE02T','PLINE03T','PLINE04T','PLINE05T','PLINE06T','PLINE07T','PLINE08T',\n",
    "                    'PLINE09T','PLINE10T','PLINE11T','PLINE12T','PLINE13T','PLINE14T','PLINE15T',\n",
    "                    'PLINE16T','PM1THV1T','PM1THV2T','PM2THV1T','PM2THV2T','PM3THV1T','PM3THV2T',\n",
    "                    'PM4THV1T','PM4THV2T',\n",
    "                    'PMFP01T','PMTANK1T','PMTANK2T','PMTANK3T']\n",
    "\n",
    "\n",
    "spacecraft_msids = ['TASPPCM','TASPPCP','TASPPCU','TASPRWC','TCM_CTU','TCM_IFU','TCM_OBC',\n",
    "                    'TCM_PA1','TCM_PA2','TCM_PAN','TCM_RFAS','TCM_SSR1','TCM_SSR2','TCM_TX1',\n",
    "                    'TCM_TX2','TCM_USO','TCNR_BRM','TCYLAFT1','TCYLAFT2','TCYLAFT3','TCYLAFT4',\n",
    "                    'TCYLAFT5','TCYLAFT6','TCYLCMM','TCYLFMZM','TCYLFMZP','TCYLPCM','TCYLPCP',\n",
    "                    'TCYLRWC','TCYZ_RW1','TPCP_RW2','TPCP_RW3','TPCM_RW4','TPCM_RW5','TCYZ_RW6',\n",
    "                    'TEP_BPAN','TEP_EIA','TEP_PCU','TEP_PPAN','TEP_PSU1','TEP_PSU2','TEP_RCTU',\n",
    "                    'TFSPCMM','TFSPCMP','TFSPPCM','TFSPPCP','TFSPPCU','TFSPRWC','TFUTSUPN',\n",
    "                    'TMYSADA','TMZP_CNT','TMZP_MY','TMZP_PY','TOXTSUPN','TPC_CEA','TPC_DEA',\n",
    "                    'TPC_ESE','TPC_FSSE','TPC_PAN','TPC_RCTU','TPC_WDA','TPYSADA','TMZLGABM',\n",
    "                    'TPZLGABM','TRSPMTPC','TRSPOTEP','TRSPOTEX','TRSPOTPC','TRSPRWBB','TRSPRWBC',\n",
    "                    'TRSPRWCM','TSCTSF1','TSCTSF2','TSCTSF3','TSCTSF4','TSCTSF5','TSCTSF6', 'CUSOAIT', 'CUSOBIT']\n",
    "\n",
    "propulsion_dome = ['PLAED1AT','PLAED1BT','PLAED1CT','PLAED1DT','PLAED1ET','PLAED1FT','PLAED1GT',\n",
    "                   'PLAED1HT','PLAED1IT','PLAED2AT','PLAED2BT','PLAED2CT','PLAED2DT','PLAED2ET',\n",
    "                   'PLAED2FT','PLAED2GT','PLAED2HT','PLAED2IT','PLAED3AT','PLAED3BT','PLAED3CT',\n",
    "                   'PLAED3DT','PLAED3ET','PLAED3FT','PLAED3GT','PLAED3HT','PLAED3IT','PLAED4AT',\n",
    "                   'PLAED4BT','PLAED4CT','PLAED4DT','PLAED4ET','PLAED4FT','PLAED4GT','PLAED4HT',\n",
    "                   'PLAED4IT']\n",
    "\n",
    "propulsion_rcs = ['POR1TV01T','POR1TV02T','POR2TV01T','POR2TV02T','PR1TV01T','PR1TV02T','PR2TV01T',\n",
    "                  'PR2TV02T','PR3TV01T','PR3TV02T','PR4TV01T','PR4TV02T']\n",
    "\n",
    "\n",
    "reaction_wheel_current = ['AWD1TQI','AWD2TQI','AWD3TQI','AWD4TQI','AWD5TQI','AWD6TQI']"
   ]
  },
  {
   "cell_type": "markdown",
   "metadata": {},
   "source": [
    "--------------------------------------------------------------------------------------------------------------\n",
    "## Generate Interactive Trending Plots"
   ]
  },
  {
   "cell_type": "code",
   "execution_count": null,
   "metadata": {},
   "outputs": [],
   "source": [
    "group_name = 'sc'\n",
    "gen_figure(reaction_wheel_current, group_name, maudefill=False)"
   ]
  },
  {
   "cell_type": "code",
   "execution_count": null,
   "metadata": {
    "scrolled": false
   },
   "outputs": [],
   "source": [
    "group_name = 'isim'\n",
    "gen_figure(isim_msids, group_name, maudefill=False)"
   ]
  },
  {
   "cell_type": "code",
   "execution_count": null,
   "metadata": {},
   "outputs": [],
   "source": [
    "group_name = 'sc'\n",
    "gen_figure(neg_z_side_sensors, group_name)"
   ]
  },
  {
   "cell_type": "code",
   "execution_count": null,
   "metadata": {},
   "outputs": [],
   "source": [
    "group_name = 'sc'\n",
    "gen_figure(eps_msids, group_name)"
   ]
  },
  {
   "cell_type": "code",
   "execution_count": null,
   "metadata": {},
   "outputs": [],
   "source": [
    "group_name = 'sc'\n",
    "gen_figure(aca_and_pcad_msids, group_name)"
   ]
  },
  {
   "cell_type": "code",
   "execution_count": null,
   "metadata": {},
   "outputs": [],
   "source": [
    "group_name = 'tel'\n",
    "gen_figure(passive_telescope_msids, group_name)"
   ]
  },
  {
   "cell_type": "code",
   "execution_count": null,
   "metadata": {},
   "outputs": [],
   "source": [
    "group_name = 'tel'\n",
    "gen_figure(active_hrma_msids, group_name)"
   ]
  },
  {
   "cell_type": "code",
   "execution_count": null,
   "metadata": {},
   "outputs": [],
   "source": [
    "group_name = 'tel'\n",
    "gen_figure(active_oba_msids, group_name)"
   ]
  },
  {
   "cell_type": "code",
   "execution_count": null,
   "metadata": {},
   "outputs": [],
   "source": [
    "group_name = 'sc'\n",
    "gen_figure(['dist_satearth', 'aosares1', 'aosares2'], group_name)"
   ]
  },
  {
   "cell_type": "code",
   "execution_count": null,
   "metadata": {},
   "outputs": [],
   "source": [
    "group_name = 'tel'\n",
    "gen_figure(healthcheck_msids, group_name)"
   ]
  },
  {
   "cell_type": "code",
   "execution_count": null,
   "metadata": {},
   "outputs": [],
   "source": [
    "group_name = 'tel'\n",
    "gen_figure(telescope_power_msids, group_name)"
   ]
  },
  {
   "cell_type": "code",
   "execution_count": null,
   "metadata": {
    "jupyter": {
     "outputs_hidden": true
    }
   },
   "outputs": [],
   "source": [
    "group_name = 'tel'\n",
    "gen_figure(tel_calibration_msids, group_name)"
   ]
  },
  {
   "cell_type": "code",
   "execution_count": null,
   "metadata": {},
   "outputs": [],
   "source": [
    "group_name = 'tel'\n",
    "gen_figure(telescope_power_stat_msids, group_name)"
   ]
  },
  {
   "cell_type": "code",
   "execution_count": null,
   "metadata": {},
   "outputs": [],
   "source": [
    "group_name = 'tel'\n",
    "gen_figure(telescope_derived_misc_msids, group_name)"
   ]
  },
  {
   "cell_type": "code",
   "execution_count": null,
   "metadata": {},
   "outputs": [],
   "source": [
    "group_name = 'sc'\n",
    "gen_figure(propulsion_msids, group_name)"
   ]
  },
  {
   "cell_type": "code",
   "execution_count": null,
   "metadata": {},
   "outputs": [],
   "source": [
    "group_name = 'sc'\n",
    "gen_figure(propulsion_dome, group_name)"
   ]
  },
  {
   "cell_type": "code",
   "execution_count": null,
   "metadata": {},
   "outputs": [],
   "source": [
    "group_name = 'sc'\n",
    "gen_figure(propulsion_rcs, group_name)"
   ]
  },
  {
   "cell_type": "code",
   "execution_count": null,
   "metadata": {},
   "outputs": [],
   "source": [
    "group_name = 'sc'\n",
    "gen_figure(spacecraft_msids, group_name)"
   ]
  },
  {
   "cell_type": "code",
   "execution_count": null,
   "metadata": {},
   "outputs": [],
   "source": [
    "group_name = 'sc'\n",
    "gen_figure(['dist_satearth', 'aosares1', 'aosares2'], group_name)"
   ]
  },
  {
   "cell_type": "code",
   "execution_count": null,
   "metadata": {},
   "outputs": [],
   "source": []
  },
  {
   "cell_type": "code",
   "execution_count": null,
   "metadata": {},
   "outputs": [],
   "source": [
    "group_name = 'tel'\n",
    "gen_figure(['4csdhav', '4sp51v'], group_name)"
   ]
  },
  {
   "cell_type": "code",
   "execution_count": null,
   "metadata": {},
   "outputs": [],
   "source": [
    "group_name = 'tel'\n",
    "gen_figure(['elbi','elbv'], group_name)"
   ]
  },
  {
   "cell_type": "code",
   "execution_count": null,
   "metadata": {},
   "outputs": [],
   "source": []
  }
 ],
 "metadata": {
  "anaconda-cloud": {},
  "kernelspec": {
   "display_name": "Python [conda env:ska3_flight] *",
   "language": "python",
   "name": "conda-env-ska3_flight-py"
  },
  "language_info": {
   "codemirror_mode": {
    "name": "ipython",
    "version": 3
   },
   "file_extension": ".py",
   "mimetype": "text/x-python",
   "name": "python",
   "nbconvert_exporter": "python",
   "pygments_lexer": "ipython3",
   "version": "3.11.8"
  },
  "widgets": {
   "state": {
    "03f5a8e42cef4292b68aec239eb687fb": {
     "views": [
      {
       "cell_index": 11
      }
     ]
    },
    "2638f946689648b1aa06079d889ba454": {
     "views": [
      {
       "cell_index": 9
      }
     ]
    },
    "2a53b88ac3d34639b70454693f32a58b": {
     "views": [
      {
       "cell_index": 16
      }
     ]
    },
    "3805f99d965e4e95b5281507a3e06ea8": {
     "views": [
      {
       "cell_index": 12
      }
     ]
    },
    "64c48baf1ea94869acbd8d642a3bdee5": {
     "views": [
      {
       "cell_index": 20
      }
     ]
    },
    "692467ee3f9a47caa1757856c0c87cfb": {
     "views": [
      {
       "cell_index": 18
      }
     ]
    },
    "768d22e0b6814d9fb72603b0ed9761ba": {
     "views": [
      {
       "cell_index": 7
      }
     ]
    },
    "79869e149c944ad7a74fc1032d626903": {
     "views": [
      {
       "cell_index": 17
      }
     ]
    },
    "8f036cec74a14474a976927835e73dc5": {
     "views": [
      {
       "cell_index": 6
      }
     ]
    },
    "b0de85f2ff6a465b8cf97e3157d036e8": {
     "views": [
      {
       "cell_index": 15
      }
     ]
    },
    "b149124f935c4b4eb8047e2b02f95c12": {
     "views": [
      {
       "cell_index": 8
      }
     ]
    },
    "c0fdd356d0e745438c363c96f0a31394": {
     "views": [
      {
       "cell_index": 10
      }
     ]
    },
    "c46db8bd544946eb99b9252cd8985d0c": {
     "views": [
      {
       "cell_index": 14
      }
     ]
    },
    "cc38a14ab91747ad9ba93b3ab9bb581f": {
     "views": [
      {
       "cell_index": 19
      }
     ]
    },
    "f9aa2032ba904bc6b67edc65190f9150": {
     "views": [
      {
       "cell_index": 13
      }
     ]
    }
   },
   "version": "1.2.0"
  }
 },
 "nbformat": 4,
 "nbformat_minor": 4
}
