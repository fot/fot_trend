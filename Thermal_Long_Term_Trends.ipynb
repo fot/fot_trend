{
 "cells": [
  {
   "cell_type": "markdown",
   "metadata": {},
   "source": [
    "# Thermal Long Term Trending\n",
    "\n",
    "This notebook includes all MSIDs previously monitored with the exceptions shown below. "
   ]
  },
  {
   "cell_type": "code",
   "execution_count": 1,
   "metadata": {},
   "outputs": [
    {
     "name": "stdout",
     "output_type": "stream",
     "text": [
      "Using G_LIMMON DB Here:/Users/matthewdahmer/AXAFDATA/SKADATA/glimmon_archive/\n",
      "Using TDB Here:/Users/matthewdahmer/AXAFDATA/SKADATA/fot_tdb_archive/\n"
     ]
    },
    {
     "data": {
      "text/html": [
       "<style>.container { width:90% !important; }</style>"
      ],
      "text/plain": [
       "<IPython.core.display.HTML object>"
      ]
     },
     "metadata": {},
     "output_type": "display_data"
    }
   ],
   "source": [
    "from os.path import expanduser\n",
    "from os import environ\n",
    "import sys\n",
    "from IPython.core.display import display, HTML\n",
    "# environ[\"SKA_DATA\"] = \"/proj/sot/ska/data\"\n",
    "\n",
    "home = expanduser(\"~\")\n",
    "addthispath = home + '/AXAFLIB/fot_trend/'\n",
    "sys.path.append(addthispath)\n",
    "from fot_trend.jupyter_trend_lib import gen_figure\n",
    "\n",
    "# Use this if you are running jupyterlab\n",
    "# %matplotlib ipympl\n",
    "\n",
    "# Use this if you want to be able to zoom or easily save a plot:\n",
    "# %matplotlib notebook\n",
    "%matplotlib widget\n",
    "\n",
    "# Use this if you want to be able to cycle through plots faster:\n",
    "# %matplotlib inline\n",
    "\n",
    "from matplotlib import rcParams\n",
    "import matplotlib.pyplot as plt\n",
    "# plt.style.use('dark_background')\n",
    "# rcParams['axes.facecolor'] = [.5,.55,.6]\n",
    "display(HTML(\"<style>.container { width:90% !important; }</style>\"))"
   ]
  },
  {
   "cell_type": "markdown",
   "metadata": {},
   "source": [
    "## These MSIDs are not included in this notebook:\n",
    "\n",
    "### These are not in the local copy of the engineering archive (some are not available in the source archive):\n",
    " - CPA1BPT\n",
    " - CPA2BPT\n",
    " - CUSOAIT\n",
    " - CXPNAIT\n",
    " - CXPNBIT\n",
    " - 5EHSE300\n",
    " - EB1T1\n",
    " - EB1T2\n",
    " - EB1T3\n",
    " - EB2T1\n",
    " - EB2T2\n",
    " - EB2T3\n",
    " - EB3T1\n",
    " - EB3T2\n",
    " - EB3T3\n",
    " \n",
    "### These are not decommed correctly\n",
    " - 4CSDHAV\n",
    " \n",
    "### These are ommitted since they are somewhat redundant with the power msids already shown and due to the complexity of plotting the associated data (bi-level data at high sampling rate).\n",
    " - All 4OHTRZXX where XX ranges from 01 to 80\n",
    "\n",
    "\n"
   ]
  },
  {
   "cell_type": "markdown",
   "metadata": {},
   "source": [
    "--------------------------------------------------------------------------------------------------------------\n",
    "## Define MSID Lists\n",
    "Define lists of MSIDs, where each list will be used to generate a different set of plots."
   ]
  },
  {
   "cell_type": "code",
   "execution_count": 2,
   "metadata": {},
   "outputs": [],
   "source": [
    "\n",
    "isim_msids = ['1CBAT','1CBBT','1CRAT','1CRBT','1DACTBT','1DEAMZT','1DPAMYT','1DPAMZT','1OAHAT',\n",
    "              '1OAHBT','1PDEAAT','1PDEABT','1PIN1AT','1SSMYT','1SSPYT','1WRAT','1WRBT','2CEAHVPT',\n",
    "              '2CHTRPZT','2CONDMXT','2DCENTRT','2DTSTATT','2FHTRMZT','2FRADPYT', '2LVPLATM', '2PMT1T','2PMT2T',\n",
    "              '2UVLSPXT','3BTU_BPT','3FABRAAT','3FABRCAT', '3FAFLAAT', '3FAFLCAT','3FAMTRAT','3FAMYZAT',\n",
    "              '3FAPSAT','3FAPYZAT','3FARALAT','3FASEAAT','3FLCABPT','3RCTUBPT','3TRMTRAT',\n",
    "              '3TSMXCET','3TSMXSPT','3TSMYDPT','3TSPYFET','3TSPZDET','3TSPZSPT','3TTACS1T',\n",
    "              '3TTACS2T','3TTACS3T','3TTBRGBT','3TTHRC1T','3TTHRC2T','3TTHRC3T','3TTRALAT',\n",
    "              '3TTRALCT','3TTVALVT', 'FPTEMP_11']\n",
    "\n",
    "neg_z_side_sensors = ['5EIOT','5EPHINT','TEIO','TEPHIN','TFSSBKT1','TFSSBKT2',\n",
    "                      'TESH1','TESH2']\n",
    "\n",
    "\n",
    "eps_msids = ['TSAMYT','TSAPYT','4CSDHAV', 'ESAMYI', 'ESAPYI']\n",
    "\n",
    "\n",
    "\n",
    "aca_and_pcad_msids = ['AACBPPT','AACBPRT','AACCCDPT','AACCCDRT','AACH1T','AACH2T','AAOTALT',\n",
    "                      'AAOTAPMT','AAOTASMT','AAOTH2MT','TAPE1PST','TAPE2PST','TATECDPT',\n",
    "                      'TATECDRT','AIRU2G1T','AIRU2G2T','AIRU2VFT', 'AIRU2BT', 'AIRU1BT',\n",
    "                     'AIRU1G1T','AIRU1G2T','AIRU1VFT', 'TAPEA1T', 'TAPEA2T']\n",
    "\n",
    "\n",
    "passive_telescope_msids = ['4HFSPAT','4HFSPBT','4LFSPAT','4LFSPBT','4PRT1AT','4PRT2AT','4PRT3AT',\n",
    "                           '4PRT4AT','4PRT5AT','4RT555T','4RT556T','4RT557T','4RT558T','4RT559T',\n",
    "                           '4RT560T','4RT561T','4RT562T','4RT563T','4RT564T','4RT565T','4RT567T',\n",
    "                           '4RT568T','4RT569T','4RT570T','4RT575T','4RT576T','4RT577T','4RT578T',\n",
    "                           '4RT579T','4RT580T','4RT581T','4RT582T','4RT583T','4RT584T','4RT585T',\n",
    "                           '4RT586T','4RT587T','4RT588T','4RT589T','4RT590T','4RT591T','4RT592T',\n",
    "                           '4RT593T','4RT594T','4RT595T','4RT596T','4RT597T','4RT598T','4RT700T',\n",
    "                           '4RT701T','4RT702T','4RT703T','4RT704T','4RT705T','4RT706T','4RT707T',\n",
    "                           '4RT708T','4RT709T','4RT710T','4RT711T']\n",
    "\n",
    "\n",
    "active_hrma_msids = ['OHRTHR02','OHRTHR03','OHRTHR04','OHRTHR05','OHRTHR06','OHRTHR07','OHRTHR08',\n",
    "                     'OHRTHR09','OHRTHR10','OHRTHR11','OHRTHR12','OHRTHR13','OHRTHR14','OHRTHR15',\n",
    "                     'OHRTHR17','OHRTHR18','OHRTHR19','OHRTHR20','OHRTHR21','OHRTHR22','OHRTHR23',\n",
    "                     'OHRTHR24','OHRTHR25','OHRTHR26','OHRTHR27','OHRTHR29','OHRTHR30','OHRTHR31',\n",
    "                     'OHRTHR33','OHRTHR34','OHRTHR35','OHRTHR36','OHRTHR37','OHRTHR38','OHRTHR39',\n",
    "                     'OHRTHR40','OHRTHR41','OHRTHR42','OHRTHR43','OHRTHR44','OHRTHR45','OHRTHR46',\n",
    "                     'OHRTHR47','OHRTHR49','OHRTHR50','OHRTHR51','OHRTHR52','OHRTHR53','OHRTHR54',\n",
    "                     'OHRTHR55','OHRTHR56','OHRTHR57','OHRTHR58','OHRTHR59','OHRTHR60','OHRTHR61',\n",
    "                     'OHRTHR62','OHRTHR63']\n",
    "\n",
    "active_oba_msids = ['OOBTHR02','OOBTHR03','OOBTHR04','OOBTHR05','OOBTHR06','OOBTHR07','OOBTHR08',\n",
    "                    'OOBTHR09','OOBTHR10','OOBTHR11','OOBTHR12','OOBTHR13','OOBTHR14','OOBTHR15',\n",
    "                    'OOBTHR17','OOBTHR18','OOBTHR19','OOBTHR20','OOBTHR21','OOBTHR22','OOBTHR23',\n",
    "                    'OOBTHR24','OOBTHR25','OOBTHR26','OOBTHR27','OOBTHR28','OOBTHR29','OOBTHR30',\n",
    "                    'OOBTHR31','OOBTHR33','OOBTHR34','OOBTHR35','OOBTHR36','OOBTHR37','OOBTHR38',\n",
    "                    'OOBTHR39','OOBTHR40','OOBTHR41','OOBTHR42','OOBTHR43','OOBTHR44','OOBTHR45',\n",
    "                    'OOBTHR46','OOBTHR47','OOBTHR49','OOBTHR50','OOBTHR51','OOBTHR52','OOBTHR53',\n",
    "                    'OOBTHR54','OOBTHR55','OOBTHR56','OOBTHR57','OOBTHR58','OOBTHR59','OOBTHR60',\n",
    "                    'OOBTHR61','OOBTHR62','OOBTHR63', 'OOBAGRD1', 'OOBAGRD2', 'OOBAGRD3', 'OOBAGRD4', 'OOBAGRD5', 'OOBAGRD6']\n",
    "\n",
    "telescope_power_msids = ['P01','P02','P03','P04','P05','P06','P07','P08','P09','P10','P11','P12',\n",
    "                         'P13','P14','P15','P16','P17','P18','P19','P20','P23','P24','P25','P26',\n",
    "                         'P27','P28','P29','P30','P31','P32','P33','P34','P35','P36','P37','P38',\n",
    "                         'P39','P40','P41','P42','P43','P44','P45','P46','P47','P48','P49','P50',\n",
    "                         'P51','P52','P53','P54','P55','P57','P58','P59','P60','P61','P62','P63',\n",
    "                         'P64','P65','P66','P67','P68','P69','P75','P76','P77','P78','P79','P80']\n",
    "\n",
    "telescope_power_stat_msids = ['PABH','PAFTCONE','PAFTCYL','PAHP','PCONE','PFAP','PFWDCONE',\n",
    "                              'PFWDCYL','PHRMA','PHRMASTRUTS','PIC','PMIDCONE','PMNT','POBAT',\n",
    "                              'POC','PPL10','PRADVNT','PSCSTRUTS','PTFTE','PTOTAL']\n",
    "\n",
    "telescope_derived_misc_msids = ['EE_AXIAL','EE_BULK','EE_DIAM','EE_RADIAL','EE_THERM','HAAG',\n",
    "                                 'HARG','HMAX35','HMIN35','HMCSAVE','OBAAG','OBAAGW','OBACAVE',\n",
    "                                 'OBACAVEW','OBADIG','OBADIGW','OMAX34','OMIN34','HADG',\n",
    "                                 'TILT_AXIAL','TILT_BULK','TILT_DIAM','TILT_MAX','TILT_RSS']\n",
    "\n",
    "healthcheck_msids = ['HRMA_AVE','4OAVHRMT','HRMHCHK','OBA_AVE','4OAVOBAT','TSSMAX','TSSMIN',\n",
    "                     'TABMAX','TABMIN','THSMAX','THSMIN','OHRMGRD3','OHRMGRD6']\n",
    "\n",
    "tel_calibration_msids = ['OHRMGRD1','OHRMGRD2', 'OHRMGRD3','OHRMGRD4', 'OHRMGRD5','OHRMGRD6', 'OHRMGRD7','OHRMGRD8']\n",
    "\n",
    "\n",
    "propulsion_msids = ['PCM01T','PCM02T','PCM03T','PCM04T','PFDM101T','PFDM102T','PFDM201T',\n",
    "                    'PFDM202T','PFFP01T','PFTANK1T','PFTANK2T','PHETANKT','PHOFP1T','PLAEV1AT',\n",
    "                    'PLAEV1BT','PLAEV2AT','PLAEV3AT','PLAEV3BT','PLAEV4AT','PLAEV4BT','PLINE01T',\n",
    "                    'PLINE02T','PLINE03T','PLINE04T','PLINE05T','PLINE06T','PLINE07T','PLINE08T',\n",
    "                    'PLINE09T','PLINE10T','PLINE11T','PLINE12T','PLINE13T','PLINE14T','PLINE15T',\n",
    "                    'PLINE16T','PM1THV1T','PM1THV2T','PM2THV1T','PM2THV2T','PM3THV1T','PM3THV2T',\n",
    "                    'PM4THV1T','PM4THV2T',\n",
    "                    'PMFP01T','PMTANK1T','PMTANK2T','PMTANK3T']\n",
    "\n",
    "\n",
    "spacecraft_msids = ['TASPPCM','TASPPCP','TASPPCU','TASPRWC','TCM_CTU','TCM_IFU','TCM_OBC',\n",
    "                    'TCM_PA1','TCM_PA2','TCM_PAN','TCM_RFAS','TCM_SSR1','TCM_SSR2','TCM_TX1',\n",
    "                    'TCM_TX2','TCM_USO','TCNR_BRM','TCYLAFT1','TCYLAFT2','TCYLAFT3','TCYLAFT4',\n",
    "                    'TCYLAFT5','TCYLAFT6','TCYLCMM','TCYLFMZM','TCYLFMZP','TCYLPCM','TCYLPCP',\n",
    "                    'TCYLRWC','TCYZ_RW1','TPCP_RW2','TPCP_RW3','TPCM_RW4','TPCM_RW5','TCYZ_RW6',\n",
    "                    'TEP_BPAN','TEP_EIA','TEP_PCU','TEP_PPAN','TEP_PSU1','TEP_PSU2','TEP_RCTU',\n",
    "                    'TFSPCMM','TFSPCMP','TFSPPCM','TFSPPCP','TFSPPCU','TFSPRWC','TFUTSUPN',\n",
    "                    'TMYSADA','TMZP_CNT','TMZP_MY','TMZP_PY','TOXTSUPN','TPC_CEA','TPC_DEA',\n",
    "                    'TPC_ESE','TPC_FSSE','TPC_PAN','TPC_RCTU','TPC_WDA','TPYSADA','TMZLGABM',\n",
    "                    'TPZLGABM','TRSPMTPC','TRSPOTEP','TRSPOTEX','TRSPOTPC','TRSPRWBB','TRSPRWBC',\n",
    "                    'TRSPRWCM','TSCTSF1','TSCTSF2','TSCTSF3','TSCTSF4','TSCTSF5','TSCTSF6', 'CUSOAIT', 'CUSOBIT']\n",
    "\n",
    "propulsion_dome = ['PLAED1AT','PLAED1BT','PLAED1CT','PLAED1DT','PLAED1ET','PLAED1FT','PLAED1GT',\n",
    "                   'PLAED1HT','PLAED1IT','PLAED2AT','PLAED2BT','PLAED2CT','PLAED2DT','PLAED2ET',\n",
    "                   'PLAED2FT','PLAED2GT','PLAED2HT','PLAED2IT','PLAED3AT','PLAED3BT','PLAED3CT',\n",
    "                   'PLAED3DT','PLAED3ET','PLAED3FT','PLAED3GT','PLAED3HT','PLAED3IT','PLAED4AT',\n",
    "                   'PLAED4BT','PLAED4CT','PLAED4DT','PLAED4ET','PLAED4FT','PLAED4GT','PLAED4HT',\n",
    "                   'PLAED4IT']\n",
    "\n",
    "propulsion_rcs = ['POR1TV01T','POR1TV02T','POR2TV01T','POR2TV02T','PR1TV01T','PR1TV02T','PR2TV01T',\n",
    "                  'PR2TV02T','PR3TV01T','PR3TV02T','PR4TV01T','PR4TV02T']\n",
    "\n",
    "\n",
    "reaction_wheel_current = ['AWD1TQI','AWD2TQI','AWD3TQI','AWD4TQI','AWD5TQI','AWD6TQI']"
   ]
  },
  {
   "cell_type": "markdown",
   "metadata": {},
   "source": [
    "--------------------------------------------------------------------------------------------------------------\n",
    "## Generate Interactive Trending Plots"
   ]
  },
  {
   "cell_type": "code",
   "execution_count": 3,
   "metadata": {},
   "outputs": [
    {
     "data": {
      "application/vnd.jupyter.widget-view+json": {
       "model_id": "342f2b2606f04df5a17c4fce134bac68",
       "version_major": 2,
       "version_minor": 0
      },
      "text/plain": [
       "Tab(children=(Box(children=(Box(children=(Select(description='MSID:', options=('AWD1TQI', 'AWD2TQI', 'AWD3TQI'…"
      ]
     },
     "metadata": {},
     "output_type": "display_data"
    },
    {
     "data": {
      "application/vnd.jupyter.widget-view+json": {
       "model_id": "a0b629d5e28d4d489474bed7745b8630",
       "version_major": 2,
       "version_minor": 0
      },
      "text/plain": [
       "Canvas(toolbar=Toolbar(toolitems=[('Home', 'Reset original view', 'home', 'home'), ('Back', 'Back to previous …"
      ]
     },
     "metadata": {},
     "output_type": "display_data"
    }
   ],
   "source": [
    "group_name = 'sc'\n",
    "gen_figure(reaction_wheel_current, group_name, maudefill=False)"
   ]
  },
  {
   "cell_type": "code",
   "execution_count": 6,
   "metadata": {},
   "outputs": [
    {
     "data": {
      "application/vnd.jupyter.widget-view+json": {
       "model_id": "853d059072894b91bc2e5ed1d8e50997",
       "version_major": 2,
       "version_minor": 0
      },
      "text/plain": [
       "Tab(children=(Box(children=(Box(children=(Select(description='MSID:', options=('1CBAT', '1CBBT', '1CRAT', '1CR…"
      ]
     },
     "metadata": {},
     "output_type": "display_data"
    },
    {
     "data": {
      "application/vnd.jupyter.widget-view+json": {
       "model_id": "ff8762f29c30459db1825e38f598f65a",
       "version_major": 2,
       "version_minor": 0
      },
      "text/plain": [
       "Canvas(toolbar=Toolbar(toolitems=[('Home', 'Reset original view', 'home', 'home'), ('Back', 'Back to previous …"
      ]
     },
     "metadata": {},
     "output_type": "display_data"
    }
   ],
   "source": [
    "group_name = 'isim'\n",
    "gen_figure(isim_msids, group_name, maudefill=False)"
   ]
  },
  {
   "cell_type": "code",
   "execution_count": 5,
   "metadata": {},
   "outputs": [
    {
     "data": {
      "application/vnd.jupyter.widget-view+json": {
       "model_id": "b1f8541c050b4dc48ce69086c4b5dd27",
       "version_major": 2,
       "version_minor": 0
      },
      "text/plain": [
       "Tab(children=(Box(children=(Box(children=(Select(description='MSID:', options=('5EIOT', '5EPHINT', 'TEIO', 'TE…"
      ]
     },
     "metadata": {},
     "output_type": "display_data"
    },
    {
     "data": {
      "application/vnd.jupyter.widget-view+json": {
       "model_id": "d135edd84c25413d9c52e37f7763a6e8",
       "version_major": 2,
       "version_minor": 0
      },
      "text/plain": [
       "Canvas(toolbar=Toolbar(toolitems=[('Home', 'Reset original view', 'home', 'home'), ('Back', 'Back to previous …"
      ]
     },
     "metadata": {},
     "output_type": "display_data"
    }
   ],
   "source": [
    "group_name = 'sc'\n",
    "gen_figure(neg_z_side_sensors, group_name)\n"
   ]
  },
  {
   "cell_type": "code",
   "execution_count": 6,
   "metadata": {},
   "outputs": [
    {
     "data": {
      "application/vnd.jupyter.widget-view+json": {
       "model_id": "f524cff05993441ba1fa1f96ba64d61b",
       "version_major": 2,
       "version_minor": 0
      },
      "text/plain": [
       "Tab(children=(Box(children=(Box(children=(Select(description='MSID:', options=('TSAMYT', 'TSAPYT', '4CSDHAV', …"
      ]
     },
     "metadata": {},
     "output_type": "display_data"
    },
    {
     "data": {
      "application/vnd.jupyter.widget-view+json": {
       "model_id": "0a90f3e1b0cb4dcfa2f60bfacd1b2f21",
       "version_major": 2,
       "version_minor": 0
      },
      "text/plain": [
       "Canvas(toolbar=Toolbar(toolitems=[('Home', 'Reset original view', 'home', 'home'), ('Back', 'Back to previous …"
      ]
     },
     "metadata": {},
     "output_type": "display_data"
    }
   ],
   "source": [
    "group_name = 'sc'\n",
    "gen_figure(eps_msids, group_name)"
   ]
  },
  {
   "cell_type": "code",
   "execution_count": 3,
   "metadata": {},
   "outputs": [
    {
     "data": {
      "application/vnd.jupyter.widget-view+json": {
       "model_id": "9af37642fbc54821af379397321b5000",
       "version_major": 2,
       "version_minor": 0
      },
      "text/plain": [
       "Tab(children=(Box(children=(Box(children=(Select(description='MSID:', options=('AACBPPT', 'AACBPRT', 'AACCCDPT…"
      ]
     },
     "metadata": {},
     "output_type": "display_data"
    },
    {
     "data": {
      "application/vnd.jupyter.widget-view+json": {
       "model_id": "c06da7d2693640b5a61ca737117be2f1",
       "version_major": 2,
       "version_minor": 0
      },
      "text/plain": [
       "Canvas(toolbar=Toolbar(toolitems=[('Home', 'Reset original view', 'home', 'home'), ('Back', 'Back to previous …"
      ]
     },
     "metadata": {},
     "output_type": "display_data"
    }
   ],
   "source": [
    "group_name = 'sc'\n",
    "gen_figure(aca_and_pcad_msids, group_name)"
   ]
  },
  {
   "cell_type": "code",
   "execution_count": 8,
   "metadata": {},
   "outputs": [
    {
     "data": {
      "application/vnd.jupyter.widget-view+json": {
       "model_id": "e716dfbc84a347ec9342457408b42e3a",
       "version_major": 2,
       "version_minor": 0
      },
      "text/plain": [
       "Tab(children=(Box(children=(Box(children=(Select(description='MSID:', options=('4HFSPAT', '4HFSPBT', '4LFSPAT'…"
      ]
     },
     "metadata": {},
     "output_type": "display_data"
    },
    {
     "data": {
      "application/vnd.jupyter.widget-view+json": {
       "model_id": "42bcaca573c141118ed937803bc59f10",
       "version_major": 2,
       "version_minor": 0
      },
      "text/plain": [
       "Canvas(toolbar=Toolbar(toolitems=[('Home', 'Reset original view', 'home', 'home'), ('Back', 'Back to previous …"
      ]
     },
     "metadata": {},
     "output_type": "display_data"
    }
   ],
   "source": [
    "group_name = 'tel'\n",
    "gen_figure(passive_telescope_msids, group_name)"
   ]
  },
  {
   "cell_type": "code",
   "execution_count": 9,
   "metadata": {},
   "outputs": [
    {
     "data": {
      "application/vnd.jupyter.widget-view+json": {
       "model_id": "955b7a9512684c009b2db529e49cd995",
       "version_major": 2,
       "version_minor": 0
      },
      "text/plain": [
       "Tab(children=(Box(children=(Box(children=(Select(description='MSID:', options=('OHRTHR02', 'OHRTHR03', 'OHRTHR…"
      ]
     },
     "metadata": {},
     "output_type": "display_data"
    },
    {
     "data": {
      "application/vnd.jupyter.widget-view+json": {
       "model_id": "c9da3161143f46b5803bc3b9eb562f1c",
       "version_major": 2,
       "version_minor": 0
      },
      "text/plain": [
       "Canvas(toolbar=Toolbar(toolitems=[('Home', 'Reset original view', 'home', 'home'), ('Back', 'Back to previous …"
      ]
     },
     "metadata": {},
     "output_type": "display_data"
    }
   ],
   "source": [
    "group_name = 'tel'\n",
    "gen_figure(active_hrma_msids, group_name)"
   ]
  },
  {
   "cell_type": "code",
   "execution_count": 11,
   "metadata": {},
   "outputs": [
    {
     "data": {
      "application/vnd.jupyter.widget-view+json": {
       "model_id": "1f8f5ab2259d45d28224414dffffd9e5",
       "version_major": 2,
       "version_minor": 0
      },
      "text/plain": [
       "Tab(children=(Box(children=(Box(children=(Select(description='MSID:', options=('OOBTHR02', 'OOBTHR03', 'OOBTHR…"
      ]
     },
     "metadata": {},
     "output_type": "display_data"
    },
    {
     "data": {
      "application/vnd.jupyter.widget-view+json": {
       "model_id": "503d999470cd4949b4ebbcdb53ce6b45",
       "version_major": 2,
       "version_minor": 0
      },
      "text/plain": [
       "Canvas(toolbar=Toolbar(toolitems=[('Home', 'Reset original view', 'home', 'home'), ('Back', 'Back to previous …"
      ]
     },
     "metadata": {},
     "output_type": "display_data"
    }
   ],
   "source": [
    "group_name = 'tel'\n",
    "gen_figure(active_oba_msids, group_name)\n"
   ]
  },
  {
   "cell_type": "code",
   "execution_count": null,
   "metadata": {},
   "outputs": [],
   "source": [
    "group_name = 'sc'\n",
    "gen_figure(['dist_satearth', 'aosares1', 'aosares2'], group_name)"
   ]
  },
  {
   "cell_type": "code",
   "execution_count": 5,
   "metadata": {},
   "outputs": [
    {
     "data": {
      "application/vnd.jupyter.widget-view+json": {
       "model_id": "a40c6e53161c4de2a9b167b43938a912",
       "version_major": 2,
       "version_minor": 0
      },
      "text/plain": [
       "Tab(children=(Box(children=(Box(children=(Select(description='MSID:', options=('HRMA_AVE', '4OAVHRMT', 'HRMHCH…"
      ]
     },
     "metadata": {},
     "output_type": "display_data"
    },
    {
     "data": {
      "application/vnd.jupyter.widget-view+json": {
       "model_id": "afdb235deab047f6a4896f6713a4a208",
       "version_major": 2,
       "version_minor": 0
      },
      "text/plain": [
       "Canvas(toolbar=Toolbar(toolitems=[('Home', 'Reset original view', 'home', 'home'), ('Back', 'Back to previous …"
      ]
     },
     "metadata": {},
     "output_type": "display_data"
    }
   ],
   "source": [
    "group_name = 'tel'\n",
    "gen_figure(healthcheck_msids, group_name)\n"
   ]
  },
  {
   "cell_type": "code",
   "execution_count": 13,
   "metadata": {},
   "outputs": [
    {
     "data": {
      "application/vnd.jupyter.widget-view+json": {
       "model_id": "20e2290e1f0240549901f437b368b31d",
       "version_major": 2,
       "version_minor": 0
      },
      "text/plain": [
       "Tab(children=(Box(children=(Box(children=(Select(description='MSID:', options=('P01', 'P02', 'P03', 'P04', 'P0…"
      ]
     },
     "metadata": {},
     "output_type": "display_data"
    },
    {
     "data": {
      "application/vnd.jupyter.widget-view+json": {
       "model_id": "e0aeb924b5de4287a9b55b84c019c8f2",
       "version_major": 2,
       "version_minor": 0
      },
      "text/plain": [
       "Canvas(toolbar=Toolbar(toolitems=[('Home', 'Reset original view', 'home', 'home'), ('Back', 'Back to previous …"
      ]
     },
     "metadata": {},
     "output_type": "display_data"
    }
   ],
   "source": [
    "group_name = 'tel'\n",
    "gen_figure(telescope_power_msids, group_name)"
   ]
  },
  {
   "cell_type": "code",
   "execution_count": 14,
   "metadata": {
    "jupyter": {
     "outputs_hidden": true
    }
   },
   "outputs": [
    {
     "data": {
      "application/vnd.jupyter.widget-view+json": {
       "model_id": "a4d76453256443f0ad2223eac00dd1cb",
       "version_major": 2,
       "version_minor": 0
      },
      "text/plain": [
       "Tab(children=(Box(children=(Box(children=(Select(description='MSID:', options=('OHRMGRD1', 'OHRMGRD2', 'OHRMGR…"
      ]
     },
     "metadata": {},
     "output_type": "display_data"
    },
    {
     "data": {
      "application/vnd.jupyter.widget-view+json": {
       "model_id": "1c9a761edff3471ea41ab2b3336f289a",
       "version_major": 2,
       "version_minor": 0
      },
      "text/plain": [
       "Canvas(toolbar=Toolbar(toolitems=[('Home', 'Reset original view', 'home', 'home'), ('Back', 'Back to previous …"
      ]
     },
     "metadata": {},
     "output_type": "display_data"
    }
   ],
   "source": [
    "group_name = 'tel'\n",
    "gen_figure(tel_calibration_msids, group_name)"
   ]
  },
  {
   "cell_type": "code",
   "execution_count": 15,
   "metadata": {},
   "outputs": [
    {
     "data": {
      "application/vnd.jupyter.widget-view+json": {
       "model_id": "b0124602fd69426ab5b415d08570411e",
       "version_major": 2,
       "version_minor": 0
      },
      "text/plain": [
       "Tab(children=(Box(children=(Box(children=(Select(description='MSID:', options=('PABH', 'PAFTCONE', 'PAFTCYL', …"
      ]
     },
     "metadata": {},
     "output_type": "display_data"
    },
    {
     "data": {
      "application/vnd.jupyter.widget-view+json": {
       "model_id": "ef10e2b36d4547779b27c45bca831c0d",
       "version_major": 2,
       "version_minor": 0
      },
      "text/plain": [
       "Canvas(toolbar=Toolbar(toolitems=[('Home', 'Reset original view', 'home', 'home'), ('Back', 'Back to previous …"
      ]
     },
     "metadata": {},
     "output_type": "display_data"
    }
   ],
   "source": [
    "group_name = 'tel'\n",
    "gen_figure(telescope_power_stat_msids, group_name)"
   ]
  },
  {
   "cell_type": "code",
   "execution_count": 16,
   "metadata": {},
   "outputs": [
    {
     "data": {
      "application/vnd.jupyter.widget-view+json": {
       "model_id": "3c488a28d0b74154b085d31021b0cce0",
       "version_major": 2,
       "version_minor": 0
      },
      "text/plain": [
       "Tab(children=(Box(children=(Box(children=(Select(description='MSID:', options=('EE_AXIAL', 'EE_BULK', 'EE_DIAM…"
      ]
     },
     "metadata": {},
     "output_type": "display_data"
    },
    {
     "data": {
      "application/vnd.jupyter.widget-view+json": {
       "model_id": "fc24028e0bad4cb6a358c7c11a163a1e",
       "version_major": 2,
       "version_minor": 0
      },
      "text/plain": [
       "Canvas(toolbar=Toolbar(toolitems=[('Home', 'Reset original view', 'home', 'home'), ('Back', 'Back to previous …"
      ]
     },
     "metadata": {},
     "output_type": "display_data"
    }
   ],
   "source": [
    "group_name = 'tel'\n",
    "gen_figure(telescope_derived_misc_msids, group_name)"
   ]
  },
  {
   "cell_type": "code",
   "execution_count": 7,
   "metadata": {},
   "outputs": [
    {
     "data": {
      "application/vnd.jupyter.widget-view+json": {
       "model_id": "9e3c189289d44a82bfb500a41142b581",
       "version_major": 2,
       "version_minor": 0
      },
      "text/plain": [
       "Tab(children=(Box(children=(Box(children=(Select(description='MSID:', options=('PCM01T', 'PCM02T', 'PCM03T', '…"
      ]
     },
     "metadata": {},
     "output_type": "display_data"
    },
    {
     "data": {
      "application/vnd.jupyter.widget-view+json": {
       "model_id": "accbac3a294c4149a40ea5e84028abb7",
       "version_major": 2,
       "version_minor": 0
      },
      "text/plain": [
       "Canvas(toolbar=Toolbar(toolitems=[('Home', 'Reset original view', 'home', 'home'), ('Back', 'Back to previous …"
      ]
     },
     "metadata": {},
     "output_type": "display_data"
    }
   ],
   "source": [
    "group_name = 'sc'\n",
    "gen_figure(propulsion_msids, group_name)"
   ]
  },
  {
   "cell_type": "code",
   "execution_count": 18,
   "metadata": {},
   "outputs": [
    {
     "data": {
      "application/vnd.jupyter.widget-view+json": {
       "model_id": "d318f9e9706e4b7eb4d64196758387c6",
       "version_major": 2,
       "version_minor": 0
      },
      "text/plain": [
       "Tab(children=(Box(children=(Box(children=(Select(description='MSID:', options=('PLAED1AT', 'PLAED1BT', 'PLAED1…"
      ]
     },
     "metadata": {},
     "output_type": "display_data"
    },
    {
     "data": {
      "application/vnd.jupyter.widget-view+json": {
       "model_id": "df17f773eeda4c209fcfb3135a7767b3",
       "version_major": 2,
       "version_minor": 0
      },
      "text/plain": [
       "Canvas(toolbar=Toolbar(toolitems=[('Home', 'Reset original view', 'home', 'home'), ('Back', 'Back to previous …"
      ]
     },
     "metadata": {},
     "output_type": "display_data"
    }
   ],
   "source": [
    "group_name = 'sc'\n",
    "gen_figure(propulsion_dome, group_name)"
   ]
  },
  {
   "cell_type": "code",
   "execution_count": 8,
   "metadata": {},
   "outputs": [
    {
     "data": {
      "application/vnd.jupyter.widget-view+json": {
       "model_id": "75e99acf54304522a5a40443262c2f8d",
       "version_major": 2,
       "version_minor": 0
      },
      "text/plain": [
       "Tab(children=(Box(children=(Box(children=(Select(description='MSID:', options=('POR1TV01T', 'POR1TV02T', 'POR2…"
      ]
     },
     "metadata": {},
     "output_type": "display_data"
    },
    {
     "data": {
      "application/vnd.jupyter.widget-view+json": {
       "model_id": "5c051bc8f469417eaf9b5d590db64d6f",
       "version_major": 2,
       "version_minor": 0
      },
      "text/plain": [
       "Canvas(toolbar=Toolbar(toolitems=[('Home', 'Reset original view', 'home', 'home'), ('Back', 'Back to previous …"
      ]
     },
     "metadata": {},
     "output_type": "display_data"
    }
   ],
   "source": [
    "group_name = 'sc'\n",
    "gen_figure(propulsion_rcs, group_name)"
   ]
  },
  {
   "cell_type": "code",
   "execution_count": 4,
   "metadata": {},
   "outputs": [
    {
     "data": {
      "application/vnd.jupyter.widget-view+json": {
       "model_id": "176cbcf15c9e401db06cdbd0d1d63232",
       "version_major": 2,
       "version_minor": 0
      },
      "text/plain": [
       "Tab(children=(Box(children=(Box(children=(Select(description='MSID:', options=('TASPPCM', 'TASPPCP', 'TASPPCU'…"
      ]
     },
     "metadata": {},
     "output_type": "display_data"
    },
    {
     "data": {
      "application/vnd.jupyter.widget-view+json": {
       "model_id": "238ba4cdc2234af495d8936777e2f2d5",
       "version_major": 2,
       "version_minor": 0
      },
      "text/plain": [
       "Canvas(toolbar=Toolbar(toolitems=[('Home', 'Reset original view', 'home', 'home'), ('Back', 'Back to previous …"
      ]
     },
     "metadata": {},
     "output_type": "display_data"
    }
   ],
   "source": [
    "group_name = 'sc'\n",
    "gen_figure(spacecraft_msids, group_name)"
   ]
  },
  {
   "cell_type": "code",
   "execution_count": null,
   "metadata": {},
   "outputs": [],
   "source": [
    "group_name = 'sc'\n",
    "gen_figure(['dist_satearth', 'aosares1', 'aosares2'], group_name)"
   ]
  },
  {
   "cell_type": "code",
   "execution_count": null,
   "metadata": {},
   "outputs": [],
   "source": []
  },
  {
   "cell_type": "code",
   "execution_count": null,
   "metadata": {},
   "outputs": [],
   "source": [
    "group_name = 'tel'\n",
    "gen_figure(['4csdhav', '4sp51v'], group_name)"
   ]
  },
  {
   "cell_type": "code",
   "execution_count": null,
   "metadata": {},
   "outputs": [],
   "source": [
    "group_name = 'tel'\n",
    "gen_figure(['elbi','elbv'], group_name)"
   ]
  },
  {
   "cell_type": "code",
   "execution_count": null,
   "metadata": {},
   "outputs": [],
   "source": []
  },
  {
   "cell_type": "code",
   "execution_count": null,
   "metadata": {},
   "outputs": [],
   "source": []
  },
  {
   "cell_type": "markdown",
   "metadata": {},
   "source": [
    "# Planning Limit Review (TCYLAFT6, 4RT700T)"
   ]
  },
  {
   "cell_type": "code",
   "execution_count": null,
   "metadata": {},
   "outputs": [],
   "source": [
    "msids = ['1CBBT', '1DACTBT', '1DEAMZT', '1DPAMZT', '3TSMXSPT']\n",
    "gen_figure(msids, 'isim')"
   ]
  },
  {
   "cell_type": "code",
   "execution_count": null,
   "metadata": {},
   "outputs": [],
   "source": [
    "msids = ['4HFSPAT', '4HFSPBT', '4LFSPAT', '4LFSPBT', '4RT568T', '4RT577T', '4RT578T', '4RT584T', '4RT585T',\n",
    "         '4RT586T', '4RT590T', '4RT591T', '4RT597T', '4RT598T', 'OHRTHR38', 'OOBTHR04', 'OOBTHR05', 'OOBTHR06',\n",
    "         'OOBTHR19', 'OOBTHR20', 'OOBTHR21', 'OOBTHR25', 'OOBTHR26', 'OOBTHR27',\n",
    "         'OOBTHR28', 'OOBTHR30', 'OOBTHR45', 'OOBTHR51', 'OOBTHR52', 'OOBTHR56',\n",
    "         'OOBTHR57', 'OOBTHR60', 'TSSMAX', 'HRMA_AVE', 'OBA_AVE']\n",
    "gen_figure(msids, 'tel')"
   ]
  },
  {
   "cell_type": "code",
   "execution_count": null,
   "metadata": {},
   "outputs": [],
   "source": [
    "msids = ['PFTANK1T', 'PFTANK2T', 'PM1THV1T', 'PM1THV2T', 'TAPE1PST', 'TAPE2PST', 'TATECDPT', 'TATECDRT', 'TCYLFMZM',\n",
    "         'TEIO', 'TEPHIN', 'TFSSBKT1', 'TFSSBKT2', 'TMZP_CNT', 'TMZP_MY', '5EIOT', '5EPHINT', 'AACBPPT', 'AACBPRT',\n",
    "         'AACCCDPT', 'AACCCDRT', 'AAOTALT', 'AAOTAPMT', 'AAOTASMT', 'AAOTH2MT', 'TCYLAFT6', '4RT700T']\n",
    "gen_figure(msids, 'sc')"
   ]
  },
  {
   "cell_type": "code",
   "execution_count": null,
   "metadata": {},
   "outputs": [],
   "source": []
  },
  {
   "cell_type": "code",
   "execution_count": null,
   "metadata": {},
   "outputs": [],
   "source": []
  },
  {
   "cell_type": "code",
   "execution_count": null,
   "metadata": {},
   "outputs": [],
   "source": []
  },
  {
   "cell_type": "code",
   "execution_count": null,
   "metadata": {},
   "outputs": [],
   "source": []
  },
  {
   "cell_type": "code",
   "execution_count": null,
   "metadata": {},
   "outputs": [],
   "source": []
  },
  {
   "cell_type": "code",
   "execution_count": null,
   "metadata": {},
   "outputs": [],
   "source": []
  },
  {
   "cell_type": "code",
   "execution_count": null,
   "metadata": {},
   "outputs": [],
   "source": [
    "26*58."
   ]
  },
  {
   "cell_type": "code",
   "execution_count": null,
   "metadata": {},
   "outputs": [],
   "source": [
    "import numpy as np\n",
    "from matplotlib import pyplot as plt\n",
    "import matplotlib.font_manager as font_manager\n",
    "\n",
    "from Chandra.Time import DateTime\n",
    "from Ska.engarchive import fetch_eng as fetch\n",
    "\n",
    "# from plot_cxctime_custom import *\n",
    "lightfont = font_manager.FontProperties(weight='light')\n"
   ]
  },
  {
   "cell_type": "code",
   "execution_count": null,
   "metadata": {},
   "outputs": [],
   "source": [
    "\n",
    "data = fetch.Msidset(['aach1t', 'aacbppt','aacccdpt', 'aacccdrt', 'aopcadmd', 'coradmen'], '2010:001', stat='5min')\n",
    "data.interpolate()\n",
    "keep = (data['aopcadmd'].vals == 'NPNT')# & (data['coradmen'].vals == 'ENAB')\n",
    "\n"
   ]
  },
  {
   "cell_type": "code",
   "execution_count": null,
   "metadata": {},
   "outputs": [],
   "source": [
    "data['coradmen'].vals"
   ]
  },
  {
   "cell_type": "code",
   "execution_count": null,
   "metadata": {},
   "outputs": [],
   "source": [
    "plt.rcParams['xtick.major.pad'] = '10'\n",
    "fig = plt.figure(facecolor=[1,1,1],figsize=(8,6))\n",
    "ax = fig.add_axes([0.15, 0.15, 0.75, 0.75])\n",
    "ax.hold(True)\n",
    "ax.plot(data['aacbppt'].vals, data['aach1t'].vals, color=[0.3, 0.3, 0.3])\n",
    "ax.set_yticks(range(60, 95, 5))\n",
    "ax.set_yticklabels(range(60, 95, 5), fontsize=18)\n",
    "ax.set_xticks(range(70, 110, 5))\n",
    "ax.set_xticklabels(range(70, 110, 5), fontsize=18)\n",
    "ax.grid(True)\n",
    "ax.set_xlabel('AACBPPT Temperature (Deg F)', fontsize=18)\n",
    "ax.set_ylabel('AACH1T Temperature (Deg F)', fontsize=18)\n",
    "ax.set_title('Correlation between AACBPPT and AACH1T', fontsize=24, y=1.05)\n",
    "ax.annotate('AACBPPT - AACH1T ~ 14F\\nat hot temperatures.', xy=(100, 85), xytext=(95, 65), \n",
    "            fontsize=16,arrowprops=dict(arrowstyle=\"->\"), va='center', ha='center')"
   ]
  },
  {
   "cell_type": "code",
   "execution_count": null,
   "metadata": {},
   "outputs": [],
   "source": [
    "fig = plt.figure(facecolor=[1,1,1],figsize=(10,6))\n",
    "ax = fig.add_axes([0.1, 0.1, 0.8, 0.8])\n",
    "ax.hold(True)\n",
    "ax.plot(data.times, data['aach2t'].vals - data['aach1t'].vals, color=[0.3, 0.3, 0.3])"
   ]
  },
  {
   "cell_type": "code",
   "execution_count": null,
   "metadata": {},
   "outputs": [],
   "source": [
    "plt.rcParams['xtick.major.pad'] = '10'\n",
    "fig = plt.figure(facecolor=[1,1,1],figsize=(8,6))\n",
    "ax = fig.add_axes([0.15, 0.15, 0.75, 0.75])\n",
    "ax.hold(True)\n",
    "ax.plot(data['aach2t'].vals, data['aach1t'].vals, color=[0.3, 0.3, 0.3])\n",
    "# ax.set_yticks(range(60, 95, 5))\n",
    "# ax.set_yticklabels(range(60, 95, 5), fontsize=18)\n",
    "# ax.set_xticks(range(70, 110, 5))\n",
    "# ax.set_xticklabels(range(70, 110, 5), fontsize=18)\n",
    "ax.grid(True)\n",
    "ax.set_xlabel('AACBPPT Temperature (Deg F)', fontsize=18)\n",
    "ax.set_ylabel('AACH1T Temperature (Deg F)', fontsize=18)\n",
    "ax.set_title('Correlation between AACBPPT and AACH1T', fontsize=24, y=1.05)\n",
    "ax.annotate('AACBPPT - AACH1T ~ 14F\\nat hot temperatures.', xy=(100, 85), xytext=(95, 65), \n",
    "            fontsize=16,arrowprops=dict(arrowstyle=\"->\"), va='center', ha='center')"
   ]
  },
  {
   "cell_type": "code",
   "execution_count": null,
   "metadata": {},
   "outputs": [],
   "source": [
    "plt.rcParams['xtick.major.pad'] = '10'\n",
    "plt.rcParams['xtick.labelsize'] = 14\n",
    "plt.rcParams['ytick.labelsize'] = 14\n",
    "\n",
    "\n",
    "\n",
    "fig = plt.figure(facecolor=[1,1,1],figsize=(12,6))\n",
    "ax = fig.add_axes([0.15, 0.15, 0.75, 0.7])\n",
    "ax.hold(True)\n",
    "ax.plot(data['aacccdpt'].vals[keep], data['aach1t'].vals[keep], '.', color=[0.3, 0.3, 0.3])\n",
    "ax.axvline(-9.5 * 9 / 5 + 32, linestyle='--', color=[0.3, 0.3, 0.3])\n",
    "ax.axvline(-8.5 * 9 / 5 + 32, linestyle='--', color=[0.8, 0.8, 0.8])\n",
    "ax.axvline(-7.5 * 9 / 5 + 32, linestyle='--', color=[0.8, 0.8, 0.8])\n",
    "\n",
    "\n",
    "\n",
    "\n",
    "# ax.set_yticks(range(60, 95, 5))\n",
    "# ax.set_yticklabels(range(60, 95, 5), fontsize=18)\n",
    "# ax.set_xticks(range(70, 110, 5))\n",
    "# ax.set_xticklabels(range(70, 110, 5), fontsize=18)\n",
    "ax.grid(True)\n",
    "ax.set_xlabel('AACCCDPT Temperature (Deg F)', fontsize=18)\n",
    "ax.set_ylabel('AACH1T Temperature (Deg F)', fontsize=18)\n",
    "ax.set_title('Correlation between ACA CCD and AACH1T\\n(During Normal Point Mode)', fontsize=24, y=1.01)\n",
    "ax.annotate('Planning Limit of -9.5C', xy=(15, 73), xytext=(23, 73), \n",
    "            fontsize=16, color=[0.3, 0.3, 0.3], arrowprops=dict(arrowstyle=\"->\", color=[0.3, 0.3, 0.3]), va='center', ha='center')\n",
    "ax.annotate('-7.5C', xy=(18.5, 83), xytext=(23, 83), \n",
    "            fontsize=16, color=[0.6, 0.6, 0.6], arrowprops=dict(arrowstyle=\"->\", color=[0.6, 0.6, 0.6]), va='center', ha='center')\n",
    "\n",
    "\n",
    "ax.set_xbound(data['aacccdpt'].vals.min() - 3, 30)"
   ]
  },
  {
   "cell_type": "code",
   "execution_count": null,
   "metadata": {},
   "outputs": [],
   "source": [
    "plt.rcParams['xtick.major.pad'] = '10'\n",
    "fig = plt.figure(facecolor=[1,1,1],figsize=(12,6))\n",
    "ax = fig.add_axes([0.15, 0.15, 0.75, 0.7])\n",
    "ax.hold(True)\n",
    "ax.plot((data['aacccdpt'].vals[keep] - 32) * 5 / 9, (data['aach1t'].vals[keep]-32) * 5 / 9, '.', color=[0.3, 0.3, 0.3])\n",
    "ax.axhline((100 - 32) * 5 / 9, linestyle='--', color=[0.3, 0.3, 0.3])\n",
    "# ax.axvline(-8.5 * 9 / 5 + 32, linestyle='--', color=[0.8, 0.8, 0.8])\n",
    "# ax.axvline(-7.5 * 9 / 5 + 32, linestyle='--', color=[0.8, 0.8, 0.8])\n",
    "\n",
    "# ax.set_yticks(range(60, 95, 5))\n",
    "# ax.set_yticklabels(range(60, 95, 5), fontsize=18)\n",
    "# ax.set_xticks(range(70, 110, 5))\n",
    "# ax.set_xticklabels(range(70, 110, 5), fontsize=18)\n",
    "ax.grid(True)\n",
    "ax.set_xlabel('AACCCDPT Temperature (Celsius)', fontsize=18)\n",
    "ax.set_ylabel('AACH1T Temperature (Celsius)', fontsize=18)\n",
    "ax.set_title('Correlation between ACA CCD and AACH1T\\n(During Normal Point Mode)', fontsize=24, y=1.01)\n",
    "# ax.annotate('Planning Limit of -9.5C', xy=(15, 73), xytext=(23, 73), \n",
    "#             fontsize=16, color=[0.3, 0.3, 0.3], arrowprops=dict(arrowstyle=\"->\", color=[0.3, 0.3, 0.3]), va='center', ha='center')\n",
    "# ax.annotate('-7.5C', xy=(18.5, 83), xytext=(23, 83), \n",
    "#             fontsize=16, color=[0.6, 0.6, 0.6], arrowprops=dict(arrowstyle=\"->\", color=[0.6, 0.6, 0.6]), va='center', ha='center')\n",
    "\n",
    "ax.annotate('Proposed housing limit of 100F', xy=(-16.5, 37.5), xytext=(-16.5, 33), \n",
    "            fontsize=16, color=[0.3, 0.3, 0.3], arrowprops=dict(arrowstyle=\"->\", color=[0.3, 0.3, 0.3]), va='center', ha='center')\n",
    "\n",
    "\n",
    "ax.set_xbound(-21, 0)\n",
    "ax.set_ybound(17.5, 40)"
   ]
  },
  {
   "cell_type": "code",
   "execution_count": null,
   "metadata": {},
   "outputs": [],
   "source": []
  },
  {
   "cell_type": "code",
   "execution_count": null,
   "metadata": {},
   "outputs": [],
   "source": [
    "msids = ['4RT555T', '4RT556T', '4RT557T', '4RT558T', '4RT559T', '4RT560T', '4RT561T', '4RT564T', '4RT565T', '4RT568T', '4RT569T', '4RT570T', '4RT570T', '4RT575T', \n",
    "         '4RT576T', '4RT577T', '4RT578T', '4RT579T', '4RT580T', '4RT581T', '4RT582T', '4RT583T', '4RT584T', '4RT585T', '4RT586T', '4RT587T', '4RT589T', '4RT590T', \n",
    "         '4RT591T', '4RT592T', '4RT594T', '4RT595T', '4RT596T', '4RT597T', '4RT598T', '4RT700T', '4RT701T', '4RT702T', '4RT703T', '4RT704T', '4RT705T', '4RT706T', \n",
    "         '4RT707T', '4RT708T', '4RT709T', '4RT710T', '4RT711T', 'OHRTHR05', 'OHRTHR06', 'OHRTHR07', 'OHRTHR08', 'OHRTHR09', 'OHRTHR10', 'OHRTHR11', 'OHRTHR12', \n",
    "         'OHRTHR13', 'OHRTHR14', 'OHRTHR15', 'OHRTHR17', 'OHRTHR18', 'OHRTHR19', 'OHRTHR20', 'OHRTHR24', 'OHRTHR25', 'OHRTHR26', 'OHRTHR29', 'OHRTHR30', 'OHRTHR31', \n",
    "         'OHRTHR33', 'OHRTHR34', 'OHRTHR35', 'OHRTHR36', 'OHRTHR37', 'OHRTHR38', 'OHRTHR39', 'OHRTHR40', 'OHRTHR41', 'OHRTHR42', 'OHRTHR43', 'OHRTHR49', 'OHRTHR50', \n",
    "         'OHRTHR51', 'OHRTHR52', 'OHRTHR53', 'OHRTHR54', 'OHRTHR55', 'OHRTHR56', 'OHRTHR57', 'OHRTHR58', 'OHRTHR60', 'OHRTHR61', 'OHRTHR62', 'OOBTHR02', 'OOBTHR03', \n",
    "         'OOBTHR04', 'OOBTHR05', 'OOBTHR06', 'OOBTHR07', 'OOBTHR62', 'OOBTHR63']\n",
    "from Ska.engarchive import fetch_eng as fetch\n",
    "\n",
    "for msid in msids:\n",
    "    d = fetch.Msid(msid, '2016:001', '2016:002', stat='5min')\n",
    "    print(d.tdb.technical_name)"
   ]
  },
  {
   "cell_type": "code",
   "execution_count": null,
   "metadata": {},
   "outputs": [],
   "source": [
    "from Ska.engarchive import fetch_eng as fetch\n",
    "\n",
    "data = fetch.Msidset(['aacccdpt', 'pitch'], '2018:288:00:00:00', '2018:295:00:00:00', stat='5min')\n",
    "data.interpolate()\n",
    "fig = plt.figure(facecolor=[1,1,1],figsize=(10,6))\n",
    "ax = fig.add_axes([0.1, 0.1, 0.8, 0.8])\n",
    "\n",
    "ax.plot(data.times, data['aacccdpt'].vals, color=[0.3, 0.3, 0.3], marker='.', linewidth=0)\n",
    "ax2 = ax.twinx()\n",
    "ax2.plot(data.times, data['pitch'].vals, color=[0.3, 0.3, 0.3], marker='.', linewidth=1)\n",
    "\n",
    "\n",
    "\n",
    "ax.grid(True)"
   ]
  },
  {
   "cell_type": "code",
   "execution_count": 18,
   "metadata": {},
   "outputs": [
    {
     "data": {
      "text/plain": [
       "29.340076"
      ]
     },
     "execution_count": 18,
     "metadata": {},
     "output_type": "execute_result"
    }
   ],
   "source": [
    "from Ska.engarchive import fetch_eng as fetch\n",
    "import numpy as np\n",
    "\n",
    "data = fetch.Msidset(['p58', 'p59', 'p60'], '2022:001', stat='5min')\n",
    "data.interpolate()\n",
    "# keep = data['aopcadmd'].vals == 'NPNT'\n",
    "\n",
    "pfwd = data['p58'].vals + data['p59'].vals + data['p60'].vals\n",
    "np.median(pfwd)\n"
   ]
  },
  {
   "cell_type": "code",
   "execution_count": 4,
   "metadata": {},
   "outputs": [
    {
     "data": {
      "application/javascript": [
       "/* Put everything inside the global mpl namespace */\n",
       "window.mpl = {};\n",
       "\n",
       "\n",
       "mpl.get_websocket_type = function() {\n",
       "    if (typeof(WebSocket) !== 'undefined') {\n",
       "        return WebSocket;\n",
       "    } else if (typeof(MozWebSocket) !== 'undefined') {\n",
       "        return MozWebSocket;\n",
       "    } else {\n",
       "        alert('Your browser does not have WebSocket support. ' +\n",
       "              'Please try Chrome, Safari or Firefox ≥ 6. ' +\n",
       "              'Firefox 4 and 5 are also supported but you ' +\n",
       "              'have to enable WebSockets in about:config.');\n",
       "    };\n",
       "}\n",
       "\n",
       "mpl.figure = function(figure_id, websocket, ondownload, parent_element) {\n",
       "    this.id = figure_id;\n",
       "\n",
       "    this.ws = websocket;\n",
       "\n",
       "    this.supports_binary = (this.ws.binaryType != undefined);\n",
       "\n",
       "    if (!this.supports_binary) {\n",
       "        var warnings = document.getElementById(\"mpl-warnings\");\n",
       "        if (warnings) {\n",
       "            warnings.style.display = 'block';\n",
       "            warnings.textContent = (\n",
       "                \"This browser does not support binary websocket messages. \" +\n",
       "                    \"Performance may be slow.\");\n",
       "        }\n",
       "    }\n",
       "\n",
       "    this.imageObj = new Image();\n",
       "\n",
       "    this.context = undefined;\n",
       "    this.message = undefined;\n",
       "    this.canvas = undefined;\n",
       "    this.rubberband_canvas = undefined;\n",
       "    this.rubberband_context = undefined;\n",
       "    this.format_dropdown = undefined;\n",
       "\n",
       "    this.image_mode = 'full';\n",
       "\n",
       "    this.root = $('<div/>');\n",
       "    this._root_extra_style(this.root)\n",
       "    this.root.attr('style', 'display: inline-block');\n",
       "\n",
       "    $(parent_element).append(this.root);\n",
       "\n",
       "    this._init_header(this);\n",
       "    this._init_canvas(this);\n",
       "    this._init_toolbar(this);\n",
       "\n",
       "    var fig = this;\n",
       "\n",
       "    this.waiting = false;\n",
       "\n",
       "    this.ws.onopen =  function () {\n",
       "            fig.send_message(\"supports_binary\", {value: fig.supports_binary});\n",
       "            fig.send_message(\"send_image_mode\", {});\n",
       "            if (mpl.ratio != 1) {\n",
       "                fig.send_message(\"set_dpi_ratio\", {'dpi_ratio': mpl.ratio});\n",
       "            }\n",
       "            fig.send_message(\"refresh\", {});\n",
       "        }\n",
       "\n",
       "    this.imageObj.onload = function() {\n",
       "            if (fig.image_mode == 'full') {\n",
       "                // Full images could contain transparency (where diff images\n",
       "                // almost always do), so we need to clear the canvas so that\n",
       "                // there is no ghosting.\n",
       "                fig.context.clearRect(0, 0, fig.canvas.width, fig.canvas.height);\n",
       "            }\n",
       "            fig.context.drawImage(fig.imageObj, 0, 0);\n",
       "        };\n",
       "\n",
       "    this.imageObj.onunload = function() {\n",
       "        fig.ws.close();\n",
       "    }\n",
       "\n",
       "    this.ws.onmessage = this._make_on_message_function(this);\n",
       "\n",
       "    this.ondownload = ondownload;\n",
       "}\n",
       "\n",
       "mpl.figure.prototype._init_header = function() {\n",
       "    var titlebar = $(\n",
       "        '<div class=\"ui-dialog-titlebar ui-widget-header ui-corner-all ' +\n",
       "        'ui-helper-clearfix\"/>');\n",
       "    var titletext = $(\n",
       "        '<div class=\"ui-dialog-title\" style=\"width: 100%; ' +\n",
       "        'text-align: center; padding: 3px;\"/>');\n",
       "    titlebar.append(titletext)\n",
       "    this.root.append(titlebar);\n",
       "    this.header = titletext[0];\n",
       "}\n",
       "\n",
       "\n",
       "\n",
       "mpl.figure.prototype._canvas_extra_style = function(canvas_div) {\n",
       "\n",
       "}\n",
       "\n",
       "\n",
       "mpl.figure.prototype._root_extra_style = function(canvas_div) {\n",
       "\n",
       "}\n",
       "\n",
       "mpl.figure.prototype._init_canvas = function() {\n",
       "    var fig = this;\n",
       "\n",
       "    var canvas_div = $('<div/>');\n",
       "\n",
       "    canvas_div.attr('style', 'position: relative; clear: both; outline: 0');\n",
       "\n",
       "    function canvas_keyboard_event(event) {\n",
       "        return fig.key_event(event, event['data']);\n",
       "    }\n",
       "\n",
       "    canvas_div.keydown('key_press', canvas_keyboard_event);\n",
       "    canvas_div.keyup('key_release', canvas_keyboard_event);\n",
       "    this.canvas_div = canvas_div\n",
       "    this._canvas_extra_style(canvas_div)\n",
       "    this.root.append(canvas_div);\n",
       "\n",
       "    var canvas = $('<canvas/>');\n",
       "    canvas.addClass('mpl-canvas');\n",
       "    canvas.attr('style', \"left: 0; top: 0; z-index: 0; outline: 0\")\n",
       "\n",
       "    this.canvas = canvas[0];\n",
       "    this.context = canvas[0].getContext(\"2d\");\n",
       "\n",
       "    var backingStore = this.context.backingStorePixelRatio ||\n",
       "\tthis.context.webkitBackingStorePixelRatio ||\n",
       "\tthis.context.mozBackingStorePixelRatio ||\n",
       "\tthis.context.msBackingStorePixelRatio ||\n",
       "\tthis.context.oBackingStorePixelRatio ||\n",
       "\tthis.context.backingStorePixelRatio || 1;\n",
       "\n",
       "    mpl.ratio = (window.devicePixelRatio || 1) / backingStore;\n",
       "\n",
       "    var rubberband = $('<canvas/>');\n",
       "    rubberband.attr('style', \"position: absolute; left: 0; top: 0; z-index: 1;\")\n",
       "\n",
       "    var pass_mouse_events = true;\n",
       "\n",
       "    canvas_div.resizable({\n",
       "        start: function(event, ui) {\n",
       "            pass_mouse_events = false;\n",
       "        },\n",
       "        resize: function(event, ui) {\n",
       "            fig.request_resize(ui.size.width, ui.size.height);\n",
       "        },\n",
       "        stop: function(event, ui) {\n",
       "            pass_mouse_events = true;\n",
       "            fig.request_resize(ui.size.width, ui.size.height);\n",
       "        },\n",
       "    });\n",
       "\n",
       "    function mouse_event_fn(event) {\n",
       "        if (pass_mouse_events)\n",
       "            return fig.mouse_event(event, event['data']);\n",
       "    }\n",
       "\n",
       "    rubberband.mousedown('button_press', mouse_event_fn);\n",
       "    rubberband.mouseup('button_release', mouse_event_fn);\n",
       "    // Throttle sequential mouse events to 1 every 20ms.\n",
       "    rubberband.mousemove('motion_notify', mouse_event_fn);\n",
       "\n",
       "    rubberband.mouseenter('figure_enter', mouse_event_fn);\n",
       "    rubberband.mouseleave('figure_leave', mouse_event_fn);\n",
       "\n",
       "    canvas_div.on(\"wheel\", function (event) {\n",
       "        event = event.originalEvent;\n",
       "        event['data'] = 'scroll'\n",
       "        if (event.deltaY < 0) {\n",
       "            event.step = 1;\n",
       "        } else {\n",
       "            event.step = -1;\n",
       "        }\n",
       "        mouse_event_fn(event);\n",
       "    });\n",
       "\n",
       "    canvas_div.append(canvas);\n",
       "    canvas_div.append(rubberband);\n",
       "\n",
       "    this.rubberband = rubberband;\n",
       "    this.rubberband_canvas = rubberband[0];\n",
       "    this.rubberband_context = rubberband[0].getContext(\"2d\");\n",
       "    this.rubberband_context.strokeStyle = \"#000000\";\n",
       "\n",
       "    this._resize_canvas = function(width, height) {\n",
       "        // Keep the size of the canvas, canvas container, and rubber band\n",
       "        // canvas in synch.\n",
       "        canvas_div.css('width', width)\n",
       "        canvas_div.css('height', height)\n",
       "\n",
       "        canvas.attr('width', width * mpl.ratio);\n",
       "        canvas.attr('height', height * mpl.ratio);\n",
       "        canvas.attr('style', 'width: ' + width + 'px; height: ' + height + 'px;');\n",
       "\n",
       "        rubberband.attr('width', width);\n",
       "        rubberband.attr('height', height);\n",
       "    }\n",
       "\n",
       "    // Set the figure to an initial 600x600px, this will subsequently be updated\n",
       "    // upon first draw.\n",
       "    this._resize_canvas(600, 600);\n",
       "\n",
       "    // Disable right mouse context menu.\n",
       "    $(this.rubberband_canvas).bind(\"contextmenu\",function(e){\n",
       "        return false;\n",
       "    });\n",
       "\n",
       "    function set_focus () {\n",
       "        canvas.focus();\n",
       "        canvas_div.focus();\n",
       "    }\n",
       "\n",
       "    window.setTimeout(set_focus, 100);\n",
       "}\n",
       "\n",
       "mpl.figure.prototype._init_toolbar = function() {\n",
       "    var fig = this;\n",
       "\n",
       "    var nav_element = $('<div/>');\n",
       "    nav_element.attr('style', 'width: 100%');\n",
       "    this.root.append(nav_element);\n",
       "\n",
       "    // Define a callback function for later on.\n",
       "    function toolbar_event(event) {\n",
       "        return fig.toolbar_button_onclick(event['data']);\n",
       "    }\n",
       "    function toolbar_mouse_event(event) {\n",
       "        return fig.toolbar_button_onmouseover(event['data']);\n",
       "    }\n",
       "\n",
       "    for(var toolbar_ind in mpl.toolbar_items) {\n",
       "        var name = mpl.toolbar_items[toolbar_ind][0];\n",
       "        var tooltip = mpl.toolbar_items[toolbar_ind][1];\n",
       "        var image = mpl.toolbar_items[toolbar_ind][2];\n",
       "        var method_name = mpl.toolbar_items[toolbar_ind][3];\n",
       "\n",
       "        if (!name) {\n",
       "            // put a spacer in here.\n",
       "            continue;\n",
       "        }\n",
       "        var button = $('<button/>');\n",
       "        button.addClass('ui-button ui-widget ui-state-default ui-corner-all ' +\n",
       "                        'ui-button-icon-only');\n",
       "        button.attr('role', 'button');\n",
       "        button.attr('aria-disabled', 'false');\n",
       "        button.click(method_name, toolbar_event);\n",
       "        button.mouseover(tooltip, toolbar_mouse_event);\n",
       "\n",
       "        var icon_img = $('<span/>');\n",
       "        icon_img.addClass('ui-button-icon-primary ui-icon');\n",
       "        icon_img.addClass(image);\n",
       "        icon_img.addClass('ui-corner-all');\n",
       "\n",
       "        var tooltip_span = $('<span/>');\n",
       "        tooltip_span.addClass('ui-button-text');\n",
       "        tooltip_span.html(tooltip);\n",
       "\n",
       "        button.append(icon_img);\n",
       "        button.append(tooltip_span);\n",
       "\n",
       "        nav_element.append(button);\n",
       "    }\n",
       "\n",
       "    var fmt_picker_span = $('<span/>');\n",
       "\n",
       "    var fmt_picker = $('<select/>');\n",
       "    fmt_picker.addClass('mpl-toolbar-option ui-widget ui-widget-content');\n",
       "    fmt_picker_span.append(fmt_picker);\n",
       "    nav_element.append(fmt_picker_span);\n",
       "    this.format_dropdown = fmt_picker[0];\n",
       "\n",
       "    for (var ind in mpl.extensions) {\n",
       "        var fmt = mpl.extensions[ind];\n",
       "        var option = $(\n",
       "            '<option/>', {selected: fmt === mpl.default_extension}).html(fmt);\n",
       "        fmt_picker.append(option);\n",
       "    }\n",
       "\n",
       "    // Add hover states to the ui-buttons\n",
       "    $( \".ui-button\" ).hover(\n",
       "        function() { $(this).addClass(\"ui-state-hover\");},\n",
       "        function() { $(this).removeClass(\"ui-state-hover\");}\n",
       "    );\n",
       "\n",
       "    var status_bar = $('<span class=\"mpl-message\"/>');\n",
       "    nav_element.append(status_bar);\n",
       "    this.message = status_bar[0];\n",
       "}\n",
       "\n",
       "mpl.figure.prototype.request_resize = function(x_pixels, y_pixels) {\n",
       "    // Request matplotlib to resize the figure. Matplotlib will then trigger a resize in the client,\n",
       "    // which will in turn request a refresh of the image.\n",
       "    this.send_message('resize', {'width': x_pixels, 'height': y_pixels});\n",
       "}\n",
       "\n",
       "mpl.figure.prototype.send_message = function(type, properties) {\n",
       "    properties['type'] = type;\n",
       "    properties['figure_id'] = this.id;\n",
       "    this.ws.send(JSON.stringify(properties));\n",
       "}\n",
       "\n",
       "mpl.figure.prototype.send_draw_message = function() {\n",
       "    if (!this.waiting) {\n",
       "        this.waiting = true;\n",
       "        this.ws.send(JSON.stringify({type: \"draw\", figure_id: this.id}));\n",
       "    }\n",
       "}\n",
       "\n",
       "\n",
       "mpl.figure.prototype.handle_save = function(fig, msg) {\n",
       "    var format_dropdown = fig.format_dropdown;\n",
       "    var format = format_dropdown.options[format_dropdown.selectedIndex].value;\n",
       "    fig.ondownload(fig, format);\n",
       "}\n",
       "\n",
       "\n",
       "mpl.figure.prototype.handle_resize = function(fig, msg) {\n",
       "    var size = msg['size'];\n",
       "    if (size[0] != fig.canvas.width || size[1] != fig.canvas.height) {\n",
       "        fig._resize_canvas(size[0], size[1]);\n",
       "        fig.send_message(\"refresh\", {});\n",
       "    };\n",
       "}\n",
       "\n",
       "mpl.figure.prototype.handle_rubberband = function(fig, msg) {\n",
       "    var x0 = msg['x0'] / mpl.ratio;\n",
       "    var y0 = (fig.canvas.height - msg['y0']) / mpl.ratio;\n",
       "    var x1 = msg['x1'] / mpl.ratio;\n",
       "    var y1 = (fig.canvas.height - msg['y1']) / mpl.ratio;\n",
       "    x0 = Math.floor(x0) + 0.5;\n",
       "    y0 = Math.floor(y0) + 0.5;\n",
       "    x1 = Math.floor(x1) + 0.5;\n",
       "    y1 = Math.floor(y1) + 0.5;\n",
       "    var min_x = Math.min(x0, x1);\n",
       "    var min_y = Math.min(y0, y1);\n",
       "    var width = Math.abs(x1 - x0);\n",
       "    var height = Math.abs(y1 - y0);\n",
       "\n",
       "    fig.rubberband_context.clearRect(\n",
       "        0, 0, fig.canvas.width / mpl.ratio, fig.canvas.height / mpl.ratio);\n",
       "\n",
       "    fig.rubberband_context.strokeRect(min_x, min_y, width, height);\n",
       "}\n",
       "\n",
       "mpl.figure.prototype.handle_figure_label = function(fig, msg) {\n",
       "    // Updates the figure title.\n",
       "    fig.header.textContent = msg['label'];\n",
       "}\n",
       "\n",
       "mpl.figure.prototype.handle_cursor = function(fig, msg) {\n",
       "    var cursor = msg['cursor'];\n",
       "    switch(cursor)\n",
       "    {\n",
       "    case 0:\n",
       "        cursor = 'pointer';\n",
       "        break;\n",
       "    case 1:\n",
       "        cursor = 'default';\n",
       "        break;\n",
       "    case 2:\n",
       "        cursor = 'crosshair';\n",
       "        break;\n",
       "    case 3:\n",
       "        cursor = 'move';\n",
       "        break;\n",
       "    }\n",
       "    fig.rubberband_canvas.style.cursor = cursor;\n",
       "}\n",
       "\n",
       "mpl.figure.prototype.handle_message = function(fig, msg) {\n",
       "    fig.message.textContent = msg['message'];\n",
       "}\n",
       "\n",
       "mpl.figure.prototype.handle_draw = function(fig, msg) {\n",
       "    // Request the server to send over a new figure.\n",
       "    fig.send_draw_message();\n",
       "}\n",
       "\n",
       "mpl.figure.prototype.handle_image_mode = function(fig, msg) {\n",
       "    fig.image_mode = msg['mode'];\n",
       "}\n",
       "\n",
       "mpl.figure.prototype.updated_canvas_event = function() {\n",
       "    // Called whenever the canvas gets updated.\n",
       "    this.send_message(\"ack\", {});\n",
       "}\n",
       "\n",
       "// A function to construct a web socket function for onmessage handling.\n",
       "// Called in the figure constructor.\n",
       "mpl.figure.prototype._make_on_message_function = function(fig) {\n",
       "    return function socket_on_message(evt) {\n",
       "        if (evt.data instanceof Blob) {\n",
       "            /* FIXME: We get \"Resource interpreted as Image but\n",
       "             * transferred with MIME type text/plain:\" errors on\n",
       "             * Chrome.  But how to set the MIME type?  It doesn't seem\n",
       "             * to be part of the websocket stream */\n",
       "            evt.data.type = \"image/png\";\n",
       "\n",
       "            /* Free the memory for the previous frames */\n",
       "            if (fig.imageObj.src) {\n",
       "                (window.URL || window.webkitURL).revokeObjectURL(\n",
       "                    fig.imageObj.src);\n",
       "            }\n",
       "\n",
       "            fig.imageObj.src = (window.URL || window.webkitURL).createObjectURL(\n",
       "                evt.data);\n",
       "            fig.updated_canvas_event();\n",
       "            fig.waiting = false;\n",
       "            return;\n",
       "        }\n",
       "        else if (typeof evt.data === 'string' && evt.data.slice(0, 21) == \"data:image/png;base64\") {\n",
       "            fig.imageObj.src = evt.data;\n",
       "            fig.updated_canvas_event();\n",
       "            fig.waiting = false;\n",
       "            return;\n",
       "        }\n",
       "\n",
       "        var msg = JSON.parse(evt.data);\n",
       "        var msg_type = msg['type'];\n",
       "\n",
       "        // Call the  \"handle_{type}\" callback, which takes\n",
       "        // the figure and JSON message as its only arguments.\n",
       "        try {\n",
       "            var callback = fig[\"handle_\" + msg_type];\n",
       "        } catch (e) {\n",
       "            console.log(\"No handler for the '\" + msg_type + \"' message type: \", msg);\n",
       "            return;\n",
       "        }\n",
       "\n",
       "        if (callback) {\n",
       "            try {\n",
       "                // console.log(\"Handling '\" + msg_type + \"' message: \", msg);\n",
       "                callback(fig, msg);\n",
       "            } catch (e) {\n",
       "                console.log(\"Exception inside the 'handler_\" + msg_type + \"' callback:\", e, e.stack, msg);\n",
       "            }\n",
       "        }\n",
       "    };\n",
       "}\n",
       "\n",
       "// from http://stackoverflow.com/questions/1114465/getting-mouse-location-in-canvas\n",
       "mpl.findpos = function(e) {\n",
       "    //this section is from http://www.quirksmode.org/js/events_properties.html\n",
       "    var targ;\n",
       "    if (!e)\n",
       "        e = window.event;\n",
       "    if (e.target)\n",
       "        targ = e.target;\n",
       "    else if (e.srcElement)\n",
       "        targ = e.srcElement;\n",
       "    if (targ.nodeType == 3) // defeat Safari bug\n",
       "        targ = targ.parentNode;\n",
       "\n",
       "    // jQuery normalizes the pageX and pageY\n",
       "    // pageX,Y are the mouse positions relative to the document\n",
       "    // offset() returns the position of the element relative to the document\n",
       "    var x = e.pageX - $(targ).offset().left;\n",
       "    var y = e.pageY - $(targ).offset().top;\n",
       "\n",
       "    return {\"x\": x, \"y\": y};\n",
       "};\n",
       "\n",
       "/*\n",
       " * return a copy of an object with only non-object keys\n",
       " * we need this to avoid circular references\n",
       " * http://stackoverflow.com/a/24161582/3208463\n",
       " */\n",
       "function simpleKeys (original) {\n",
       "  return Object.keys(original).reduce(function (obj, key) {\n",
       "    if (typeof original[key] !== 'object')\n",
       "        obj[key] = original[key]\n",
       "    return obj;\n",
       "  }, {});\n",
       "}\n",
       "\n",
       "mpl.figure.prototype.mouse_event = function(event, name) {\n",
       "    var canvas_pos = mpl.findpos(event)\n",
       "\n",
       "    if (name === 'button_press')\n",
       "    {\n",
       "        this.canvas.focus();\n",
       "        this.canvas_div.focus();\n",
       "    }\n",
       "\n",
       "    var x = canvas_pos.x * mpl.ratio;\n",
       "    var y = canvas_pos.y * mpl.ratio;\n",
       "\n",
       "    this.send_message(name, {x: x, y: y, button: event.button,\n",
       "                             step: event.step,\n",
       "                             guiEvent: simpleKeys(event)});\n",
       "\n",
       "    /* This prevents the web browser from automatically changing to\n",
       "     * the text insertion cursor when the button is pressed.  We want\n",
       "     * to control all of the cursor setting manually through the\n",
       "     * 'cursor' event from matplotlib */\n",
       "    event.preventDefault();\n",
       "    return false;\n",
       "}\n",
       "\n",
       "mpl.figure.prototype._key_event_extra = function(event, name) {\n",
       "    // Handle any extra behaviour associated with a key event\n",
       "}\n",
       "\n",
       "mpl.figure.prototype.key_event = function(event, name) {\n",
       "\n",
       "    // Prevent repeat events\n",
       "    if (name == 'key_press')\n",
       "    {\n",
       "        if (event.which === this._key)\n",
       "            return;\n",
       "        else\n",
       "            this._key = event.which;\n",
       "    }\n",
       "    if (name == 'key_release')\n",
       "        this._key = null;\n",
       "\n",
       "    var value = '';\n",
       "    if (event.ctrlKey && event.which != 17)\n",
       "        value += \"ctrl+\";\n",
       "    if (event.altKey && event.which != 18)\n",
       "        value += \"alt+\";\n",
       "    if (event.shiftKey && event.which != 16)\n",
       "        value += \"shift+\";\n",
       "\n",
       "    value += 'k';\n",
       "    value += event.which.toString();\n",
       "\n",
       "    this._key_event_extra(event, name);\n",
       "\n",
       "    this.send_message(name, {key: value,\n",
       "                             guiEvent: simpleKeys(event)});\n",
       "    return false;\n",
       "}\n",
       "\n",
       "mpl.figure.prototype.toolbar_button_onclick = function(name) {\n",
       "    if (name == 'download') {\n",
       "        this.handle_save(this, null);\n",
       "    } else {\n",
       "        this.send_message(\"toolbar_button\", {name: name});\n",
       "    }\n",
       "};\n",
       "\n",
       "mpl.figure.prototype.toolbar_button_onmouseover = function(tooltip) {\n",
       "    this.message.textContent = tooltip;\n",
       "};\n",
       "mpl.toolbar_items = [[\"Home\", \"Reset original view\", \"fa fa-home icon-home\", \"home\"], [\"Back\", \"Back to previous view\", \"fa fa-arrow-left icon-arrow-left\", \"back\"], [\"Forward\", \"Forward to next view\", \"fa fa-arrow-right icon-arrow-right\", \"forward\"], [\"\", \"\", \"\", \"\"], [\"Pan\", \"Pan axes with left mouse, zoom with right\", \"fa fa-arrows icon-move\", \"pan\"], [\"Zoom\", \"Zoom to rectangle\", \"fa fa-square-o icon-check-empty\", \"zoom\"], [\"\", \"\", \"\", \"\"], [\"Download\", \"Download plot\", \"fa fa-floppy-o icon-save\", \"download\"]];\n",
       "\n",
       "mpl.extensions = [\"eps\", \"jpeg\", \"pdf\", \"png\", \"ps\", \"raw\", \"svg\", \"tif\"];\n",
       "\n",
       "mpl.default_extension = \"png\";var comm_websocket_adapter = function(comm) {\n",
       "    // Create a \"websocket\"-like object which calls the given IPython comm\n",
       "    // object with the appropriate methods. Currently this is a non binary\n",
       "    // socket, so there is still some room for performance tuning.\n",
       "    var ws = {};\n",
       "\n",
       "    ws.close = function() {\n",
       "        comm.close()\n",
       "    };\n",
       "    ws.send = function(m) {\n",
       "        //console.log('sending', m);\n",
       "        comm.send(m);\n",
       "    };\n",
       "    // Register the callback with on_msg.\n",
       "    comm.on_msg(function(msg) {\n",
       "        //console.log('receiving', msg['content']['data'], msg);\n",
       "        // Pass the mpl event to the overridden (by mpl) onmessage function.\n",
       "        ws.onmessage(msg['content']['data'])\n",
       "    });\n",
       "    return ws;\n",
       "}\n",
       "\n",
       "mpl.mpl_figure_comm = function(comm, msg) {\n",
       "    // This is the function which gets called when the mpl process\n",
       "    // starts-up an IPython Comm through the \"matplotlib\" channel.\n",
       "\n",
       "    var id = msg.content.data.id;\n",
       "    // Get hold of the div created by the display call when the Comm\n",
       "    // socket was opened in Python.\n",
       "    var element = $(\"#\" + id);\n",
       "    var ws_proxy = comm_websocket_adapter(comm)\n",
       "\n",
       "    function ondownload(figure, format) {\n",
       "        window.open(figure.imageObj.src);\n",
       "    }\n",
       "\n",
       "    var fig = new mpl.figure(id, ws_proxy,\n",
       "                           ondownload,\n",
       "                           element.get(0));\n",
       "\n",
       "    // Call onopen now - mpl needs it, as it is assuming we've passed it a real\n",
       "    // web socket which is closed, not our websocket->open comm proxy.\n",
       "    ws_proxy.onopen();\n",
       "\n",
       "    fig.parent_element = element.get(0);\n",
       "    fig.cell_info = mpl.find_output_cell(\"<div id='\" + id + \"'></div>\");\n",
       "    if (!fig.cell_info) {\n",
       "        console.error(\"Failed to find cell for figure\", id, fig);\n",
       "        return;\n",
       "    }\n",
       "\n",
       "    var output_index = fig.cell_info[2]\n",
       "    var cell = fig.cell_info[0];\n",
       "\n",
       "};\n",
       "\n",
       "mpl.figure.prototype.handle_close = function(fig, msg) {\n",
       "    var width = fig.canvas.width/mpl.ratio\n",
       "    fig.root.unbind('remove')\n",
       "\n",
       "    // Update the output cell to use the data from the current canvas.\n",
       "    fig.push_to_output();\n",
       "    var dataURL = fig.canvas.toDataURL();\n",
       "    // Re-enable the keyboard manager in IPython - without this line, in FF,\n",
       "    // the notebook keyboard shortcuts fail.\n",
       "    IPython.keyboard_manager.enable()\n",
       "    $(fig.parent_element).html('<img src=\"' + dataURL + '\" width=\"' + width + '\">');\n",
       "    fig.close_ws(fig, msg);\n",
       "}\n",
       "\n",
       "mpl.figure.prototype.close_ws = function(fig, msg){\n",
       "    fig.send_message('closing', msg);\n",
       "    // fig.ws.close()\n",
       "}\n",
       "\n",
       "mpl.figure.prototype.push_to_output = function(remove_interactive) {\n",
       "    // Turn the data on the canvas into data in the output cell.\n",
       "    var width = this.canvas.width/mpl.ratio\n",
       "    var dataURL = this.canvas.toDataURL();\n",
       "    this.cell_info[1]['text/html'] = '<img src=\"' + dataURL + '\" width=\"' + width + '\">';\n",
       "}\n",
       "\n",
       "mpl.figure.prototype.updated_canvas_event = function() {\n",
       "    // Tell IPython that the notebook contents must change.\n",
       "    IPython.notebook.set_dirty(true);\n",
       "    this.send_message(\"ack\", {});\n",
       "    var fig = this;\n",
       "    // Wait a second, then push the new image to the DOM so\n",
       "    // that it is saved nicely (might be nice to debounce this).\n",
       "    setTimeout(function () { fig.push_to_output() }, 1000);\n",
       "}\n",
       "\n",
       "mpl.figure.prototype._init_toolbar = function() {\n",
       "    var fig = this;\n",
       "\n",
       "    var nav_element = $('<div/>');\n",
       "    nav_element.attr('style', 'width: 100%');\n",
       "    this.root.append(nav_element);\n",
       "\n",
       "    // Define a callback function for later on.\n",
       "    function toolbar_event(event) {\n",
       "        return fig.toolbar_button_onclick(event['data']);\n",
       "    }\n",
       "    function toolbar_mouse_event(event) {\n",
       "        return fig.toolbar_button_onmouseover(event['data']);\n",
       "    }\n",
       "\n",
       "    for(var toolbar_ind in mpl.toolbar_items){\n",
       "        var name = mpl.toolbar_items[toolbar_ind][0];\n",
       "        var tooltip = mpl.toolbar_items[toolbar_ind][1];\n",
       "        var image = mpl.toolbar_items[toolbar_ind][2];\n",
       "        var method_name = mpl.toolbar_items[toolbar_ind][3];\n",
       "\n",
       "        if (!name) { continue; };\n",
       "\n",
       "        var button = $('<button class=\"btn btn-default\" href=\"#\" title=\"' + name + '\"><i class=\"fa ' + image + ' fa-lg\"></i></button>');\n",
       "        button.click(method_name, toolbar_event);\n",
       "        button.mouseover(tooltip, toolbar_mouse_event);\n",
       "        nav_element.append(button);\n",
       "    }\n",
       "\n",
       "    // Add the status bar.\n",
       "    var status_bar = $('<span class=\"mpl-message\" style=\"text-align:right; float: right;\"/>');\n",
       "    nav_element.append(status_bar);\n",
       "    this.message = status_bar[0];\n",
       "\n",
       "    // Add the close button to the window.\n",
       "    var buttongrp = $('<div class=\"btn-group inline pull-right\"></div>');\n",
       "    var button = $('<button class=\"btn btn-mini btn-primary\" href=\"#\" title=\"Stop Interaction\"><i class=\"fa fa-power-off icon-remove icon-large\"></i></button>');\n",
       "    button.click(function (evt) { fig.handle_close(fig, {}); } );\n",
       "    button.mouseover('Stop Interaction', toolbar_mouse_event);\n",
       "    buttongrp.append(button);\n",
       "    var titlebar = this.root.find($('.ui-dialog-titlebar'));\n",
       "    titlebar.prepend(buttongrp);\n",
       "}\n",
       "\n",
       "mpl.figure.prototype._root_extra_style = function(el){\n",
       "    var fig = this\n",
       "    el.on(\"remove\", function(){\n",
       "\tfig.close_ws(fig, {});\n",
       "    });\n",
       "}\n",
       "\n",
       "mpl.figure.prototype._canvas_extra_style = function(el){\n",
       "    // this is important to make the div 'focusable\n",
       "    el.attr('tabindex', 0)\n",
       "    // reach out to IPython and tell the keyboard manager to turn it's self\n",
       "    // off when our div gets focus\n",
       "\n",
       "    // location in version 3\n",
       "    if (IPython.notebook.keyboard_manager) {\n",
       "        IPython.notebook.keyboard_manager.register_events(el);\n",
       "    }\n",
       "    else {\n",
       "        // location in version 2\n",
       "        IPython.keyboard_manager.register_events(el);\n",
       "    }\n",
       "\n",
       "}\n",
       "\n",
       "mpl.figure.prototype._key_event_extra = function(event, name) {\n",
       "    var manager = IPython.notebook.keyboard_manager;\n",
       "    if (!manager)\n",
       "        manager = IPython.keyboard_manager;\n",
       "\n",
       "    // Check for shift+enter\n",
       "    if (event.shiftKey && event.which == 13) {\n",
       "        this.canvas_div.blur();\n",
       "        // select the cell after this one\n",
       "        var index = IPython.notebook.find_cell_index(this.cell_info[0]);\n",
       "        IPython.notebook.select(index + 1);\n",
       "    }\n",
       "}\n",
       "\n",
       "mpl.figure.prototype.handle_save = function(fig, msg) {\n",
       "    fig.ondownload(fig, null);\n",
       "}\n",
       "\n",
       "\n",
       "mpl.find_output_cell = function(html_output) {\n",
       "    // Return the cell and output element which can be found *uniquely* in the notebook.\n",
       "    // Note - this is a bit hacky, but it is done because the \"notebook_saving.Notebook\"\n",
       "    // IPython event is triggered only after the cells have been serialised, which for\n",
       "    // our purposes (turning an active figure into a static one), is too late.\n",
       "    var cells = IPython.notebook.get_cells();\n",
       "    var ncells = cells.length;\n",
       "    for (var i=0; i<ncells; i++) {\n",
       "        var cell = cells[i];\n",
       "        if (cell.cell_type === 'code'){\n",
       "            for (var j=0; j<cell.output_area.outputs.length; j++) {\n",
       "                var data = cell.output_area.outputs[j];\n",
       "                if (data.data) {\n",
       "                    // IPython >= 3 moved mimebundle to data attribute of output\n",
       "                    data = data.data;\n",
       "                }\n",
       "                if (data['text/html'] == html_output) {\n",
       "                    return [cell, data, j];\n",
       "                }\n",
       "            }\n",
       "        }\n",
       "    }\n",
       "}\n",
       "\n",
       "// Register the function which deals with the matplotlib target/channel.\n",
       "// The kernel may be null if the page has been refreshed.\n",
       "if (IPython.notebook.kernel != null) {\n",
       "    IPython.notebook.kernel.comm_manager.register_target('matplotlib', mpl.mpl_figure_comm);\n",
       "}\n"
      ],
      "text/plain": [
       "<IPython.core.display.Javascript object>"
      ]
     },
     "metadata": {},
     "output_type": "display_data"
    },
    {
     "data": {
      "text/html": [
       "<img src=\"data:image/png;base64,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\" width=\"1000\">"
      ],
      "text/plain": [
       "<IPython.core.display.HTML object>"
      ]
     },
     "metadata": {},
     "output_type": "display_data"
    },
    {
     "data": {
      "text/plain": [
       "[<matplotlib.lines.Line2D at 0x7fa78056d910>]"
      ]
     },
     "execution_count": 4,
     "metadata": {},
     "output_type": "execute_result"
    }
   ],
   "source": [
    "from Ska.engarchive import fetch\n",
    "import numpy as np\n",
    "\n",
    "data = fetch.Msid('2LVPLATM', '2022:001', stat='5min')\n",
    "fig = plt.figure(facecolor=[1,1,1],figsize=(10,6))\n",
    "ax = fig.add_axes([0.1, 0.1, 0.8, 0.8])\n",
    "ax.plot(data.times, data.vals, color=[0.3, 0.3, 0.3], marker='.', linewidth=0)\n",
    "\n",
    "\n"
   ]
  },
  {
   "cell_type": "code",
   "execution_count": null,
   "metadata": {},
   "outputs": [],
   "source": [
    "fig = plt.figure(facecolor=[1,1,1],figsize=(10,6))\n",
    "ax = fig.add_axes([0.1, 0.1, 0.8, 0.8])\n",
    "ax.hold(True)\n",
    "ax.plot(data['aacccdpt'].vals[keep], data['aach1t'].vals[keep], color=[0.3, 0.3, 0.3], marker='.', linewidth=0)\n"
   ]
  },
  {
   "cell_type": "code",
   "execution_count": null,
   "metadata": {},
   "outputs": [],
   "source": [
    "from Chandra.Time import DateTime\n",
    "\n",
    "a = DateTime('2017:334:19:55:00').secs - DateTime('2017:333:10:58:53').secs \n",
    "b = DateTime('2018:006:05:53:43').secs - DateTime('2018:005:23:13:33').secs\n",
    "a/3600., b/3600."
   ]
  },
  {
   "cell_type": "code",
   "execution_count": null,
   "metadata": {},
   "outputs": [],
   "source": [
    "from cheta import fetch\n",
    "fetch.data_source.set('maude')\n",
    "data = fetch.Msid('215PCAST', '2020:347:01:20:36.756', '2020:347:01:40:09.993', stat=None)\n",
    "data.vals"
   ]
  },
  {
   "cell_type": "code",
   "execution_count": 8,
   "metadata": {},
   "outputs": [],
   "source": [
    "class Test(object):\n",
    "    def __init__(self):\n",
    "        self.name = 'matt'\n",
    "        self.len = len"
   ]
  },
  {
   "cell_type": "code",
   "execution_count": 10,
   "metadata": {},
   "outputs": [
    {
     "data": {
      "text/plain": [
       "'matt'"
      ]
     },
     "execution_count": 10,
     "metadata": {},
     "output_type": "execute_result"
    }
   ],
   "source": [
    "a = Test()\n",
    "a.name\n"
   ]
  },
  {
   "cell_type": "code",
   "execution_count": 13,
   "metadata": {},
   "outputs": [
    {
     "data": {
      "text/plain": [
       "True"
      ]
     },
     "execution_count": 13,
     "metadata": {},
     "output_type": "execute_result"
    }
   ],
   "source": [
    "hasattr(a, 'name')"
   ]
  },
  {
   "cell_type": "code",
   "execution_count": null,
   "metadata": {},
   "outputs": [],
   "source": []
  }
 ],
 "metadata": {
  "anaconda-cloud": {},
  "kernelspec": {
   "display_name": "Python [conda env:ska3]",
   "language": "python",
   "name": "conda-env-ska3-py"
  },
  "language_info": {
   "codemirror_mode": {
    "name": "ipython",
    "version": 3
   },
   "file_extension": ".py",
   "mimetype": "text/x-python",
   "name": "python",
   "nbconvert_exporter": "python",
   "pygments_lexer": "ipython3",
   "version": "3.8.3"
  },
  "widgets": {
   "state": {
    "03f5a8e42cef4292b68aec239eb687fb": {
     "views": [
      {
       "cell_index": 11
      }
     ]
    },
    "2638f946689648b1aa06079d889ba454": {
     "views": [
      {
       "cell_index": 9
      }
     ]
    },
    "2a53b88ac3d34639b70454693f32a58b": {
     "views": [
      {
       "cell_index": 16
      }
     ]
    },
    "3805f99d965e4e95b5281507a3e06ea8": {
     "views": [
      {
       "cell_index": 12
      }
     ]
    },
    "64c48baf1ea94869acbd8d642a3bdee5": {
     "views": [
      {
       "cell_index": 20
      }
     ]
    },
    "692467ee3f9a47caa1757856c0c87cfb": {
     "views": [
      {
       "cell_index": 18
      }
     ]
    },
    "768d22e0b6814d9fb72603b0ed9761ba": {
     "views": [
      {
       "cell_index": 7
      }
     ]
    },
    "79869e149c944ad7a74fc1032d626903": {
     "views": [
      {
       "cell_index": 17
      }
     ]
    },
    "8f036cec74a14474a976927835e73dc5": {
     "views": [
      {
       "cell_index": 6
      }
     ]
    },
    "b0de85f2ff6a465b8cf97e3157d036e8": {
     "views": [
      {
       "cell_index": 15
      }
     ]
    },
    "b149124f935c4b4eb8047e2b02f95c12": {
     "views": [
      {
       "cell_index": 8
      }
     ]
    },
    "c0fdd356d0e745438c363c96f0a31394": {
     "views": [
      {
       "cell_index": 10
      }
     ]
    },
    "c46db8bd544946eb99b9252cd8985d0c": {
     "views": [
      {
       "cell_index": 14
      }
     ]
    },
    "cc38a14ab91747ad9ba93b3ab9bb581f": {
     "views": [
      {
       "cell_index": 19
      }
     ]
    },
    "f9aa2032ba904bc6b67edc65190f9150": {
     "views": [
      {
       "cell_index": 13
      }
     ]
    }
   },
   "version": "1.2.0"
  }
 },
 "nbformat": 4,
 "nbformat_minor": 4
}
